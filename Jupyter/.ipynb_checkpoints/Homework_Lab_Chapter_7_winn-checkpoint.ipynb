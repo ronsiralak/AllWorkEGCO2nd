{
 "cells": [
  {
   "cell_type": "markdown",
   "metadata": {
    "id": "6w1_Mo78NDof"
   },
   "source": [
    "## Creating confidence intervals in python\n",
    "In this assessment, you will look at data from a study on toddler sleep habits. \n"
   ]
  },
  {
   "cell_type": "code",
   "execution_count": null,
   "metadata": {
    "id": "YNKXymB_NDoh"
   },
   "outputs": [],
   "source": [
    "import numpy as np\n",
    "import pandas as pd\n",
    "from scipy.stats import t\n",
    "pd.set_option('display.max_columns', 30) # set so can see all columns of the DataFrame"
   ]
  },
  {
   "cell_type": "markdown",
   "metadata": {
    "id": "HL4-ACl_NDol"
   },
   "source": [
    "Your goal is to analyse data which is the result of a study that examined\n",
    "differences in a number of sleep variables between napping and non-napping toddlers. Some of these\n",
    "sleep variables included: Bedtime (lights-off time in decimalized time), Night Sleep Onset Time (in\n",
    "decimalized time), Wake Time (sleep end time in decimalized time), Night Sleep Duration (interval\n",
    "between sleep onset and sleep end in minutes), and Total 24-Hour Sleep Duration (in minutes). Note:\n",
    "[Decimalized time](https://en.wikipedia.org/wiki/Decimal_time) is the representation of the time of day using units which are decimally related.   \n",
    "\n",
    "\n",
    "The 20 study participants were healthy, normally developing toddlers with no sleep or behavioral\n",
    "problems. These children were categorized as napping or non-napping based upon parental report of\n",
    "children’s habitual sleep patterns. Researchers then verified napping status with data from actigraphy (a\n",
    "non-invasive method of monitoring human rest/activity cycles by wearing of a sensor on the wrist) and\n",
    "sleep diaries during the 5 days before the study assessments were made.\n",
    "\n",
    "\n",
    "You are specifically interested in the results for the Bedtime, Night Sleep Duration, and Total 24-\n",
    "Hour Sleep Duration. "
   ]
  },
  {
   "cell_type": "markdown",
   "metadata": {
    "id": "XHo6lLm_NDol"
   },
   "source": [
    "Reference: Akacem LD, Simpkin CT, Carskadon MA, Wright KP Jr, Jenni OG, Achermann P, et al. (2015) The Timing of the Circadian Clock and Sleep Differ between Napping and Non-Napping Toddlers. PLoS ONE 10(4): e0125181. https://doi.org/10.1371/journal.pone.0125181"
   ]
  },
  {
   "cell_type": "code",
   "execution_count": null,
   "metadata": {
    "colab": {
     "base_uri": "https://localhost:8080/",
     "height": 73,
     "resources": {
      "http://localhost:8080/nbextensions/google.colab/files.js": {
       "data": "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",
       "headers": [
        [
         "content-type",
         "application/javascript"
        ]
       ],
       "ok": true,
       "status": 200,
       "status_text": ""
      }
     }
    },
    "id": "mBcxVw04NFW9",
    "outputId": "179c2813-e1eb-49a2-d959-1d98f96b90cf"
   },
   "outputs": [
    {
     "data": {
      "text/html": [
       "\n",
       "     <input type=\"file\" id=\"files-a8d13f10-331b-44e8-af30-a4060316efd9\" name=\"files[]\" multiple disabled\n",
       "        style=\"border:none\" />\n",
       "     <output id=\"result-a8d13f10-331b-44e8-af30-a4060316efd9\">\n",
       "      Upload widget is only available when the cell has been executed in the\n",
       "      current browser session. Please rerun this cell to enable.\n",
       "      </output>\n",
       "      <script src=\"/nbextensions/google.colab/files.js\"></script> "
      ],
      "text/plain": [
       "<IPython.core.display.HTML object>"
      ]
     },
     "metadata": {
      "tags": []
     },
     "output_type": "display_data"
    },
    {
     "name": "stdout",
     "output_type": "stream",
     "text": [
      "Saving nap_no_nap.csv to nap_no_nap (1).csv\n"
     ]
    }
   ],
   "source": [
    "# Import the data\n",
    "from google.colab import files\n",
    "uploaded = files.upload()\n",
    "da = pd.read_csv(\"nap_no_nap.csv\") "
   ]
  },
  {
   "cell_type": "code",
   "execution_count": null,
   "metadata": {
    "colab": {
     "base_uri": "https://localhost:8080/",
     "height": 740
    },
    "id": "TYe8b7MoNDop",
    "outputId": "3196390e-ebb0-46b3-e975-41b1fb6880db"
   },
   "outputs": [
    {
     "data": {
      "text/html": [
       "<div>\n",
       "<style scoped>\n",
       "    .dataframe tbody tr th:only-of-type {\n",
       "        vertical-align: middle;\n",
       "    }\n",
       "\n",
       "    .dataframe tbody tr th {\n",
       "        vertical-align: top;\n",
       "    }\n",
       "\n",
       "    .dataframe thead th {\n",
       "        text-align: right;\n",
       "    }\n",
       "</style>\n",
       "<table border=\"1\" class=\"dataframe\">\n",
       "  <thead>\n",
       "    <tr style=\"text-align: right;\">\n",
       "      <th></th>\n",
       "      <th>id</th>\n",
       "      <th>sex</th>\n",
       "      <th>age (months)</th>\n",
       "      <th>dlmo time</th>\n",
       "      <th>days napped</th>\n",
       "      <th>napping</th>\n",
       "      <th>nap lights outl time</th>\n",
       "      <th>nap sleep onset</th>\n",
       "      <th>nap midsleep</th>\n",
       "      <th>nap sleep offset</th>\n",
       "      <th>nap wake time</th>\n",
       "      <th>nap duration</th>\n",
       "      <th>nap time in bed</th>\n",
       "      <th>night bedtime</th>\n",
       "      <th>night sleep onset</th>\n",
       "      <th>sleep onset latency</th>\n",
       "      <th>night midsleep time</th>\n",
       "      <th>night wake time</th>\n",
       "      <th>night sleep duration</th>\n",
       "      <th>night time in bed</th>\n",
       "      <th>24 h sleep duration</th>\n",
       "      <th>bedtime phase difference</th>\n",
       "      <th>sleep onset phase difference</th>\n",
       "      <th>midsleep phase difference</th>\n",
       "      <th>wake time phase difference</th>\n",
       "    </tr>\n",
       "  </thead>\n",
       "  <tbody>\n",
       "    <tr>\n",
       "      <th>0</th>\n",
       "      <td>1</td>\n",
       "      <td>female</td>\n",
       "      <td>33.7</td>\n",
       "      <td>19.24</td>\n",
       "      <td>0</td>\n",
       "      <td>0</td>\n",
       "      <td>NaN</td>\n",
       "      <td>NaN</td>\n",
       "      <td>NaN</td>\n",
       "      <td>NaN</td>\n",
       "      <td>NaN</td>\n",
       "      <td>NaN</td>\n",
       "      <td>NaN</td>\n",
       "      <td>20.45</td>\n",
       "      <td>20.68</td>\n",
       "      <td>0.23</td>\n",
       "      <td>1.92</td>\n",
       "      <td>7.17</td>\n",
       "      <td>629.40</td>\n",
       "      <td>643.00</td>\n",
       "      <td>629.40</td>\n",
       "      <td>-1.21</td>\n",
       "      <td>-1.44</td>\n",
       "      <td>6.68</td>\n",
       "      <td>11.93</td>\n",
       "    </tr>\n",
       "    <tr>\n",
       "      <th>1</th>\n",
       "      <td>2</td>\n",
       "      <td>female</td>\n",
       "      <td>31.5</td>\n",
       "      <td>18.27</td>\n",
       "      <td>0</td>\n",
       "      <td>0</td>\n",
       "      <td>NaN</td>\n",
       "      <td>NaN</td>\n",
       "      <td>NaN</td>\n",
       "      <td>NaN</td>\n",
       "      <td>NaN</td>\n",
       "      <td>NaN</td>\n",
       "      <td>NaN</td>\n",
       "      <td>19.23</td>\n",
       "      <td>19.48</td>\n",
       "      <td>0.25</td>\n",
       "      <td>1.09</td>\n",
       "      <td>6.69</td>\n",
       "      <td>672.40</td>\n",
       "      <td>700.40</td>\n",
       "      <td>672.40</td>\n",
       "      <td>-0.96</td>\n",
       "      <td>-1.21</td>\n",
       "      <td>6.82</td>\n",
       "      <td>12.42</td>\n",
       "    </tr>\n",
       "    <tr>\n",
       "      <th>2</th>\n",
       "      <td>3</td>\n",
       "      <td>male</td>\n",
       "      <td>31.9</td>\n",
       "      <td>19.14</td>\n",
       "      <td>0</td>\n",
       "      <td>0</td>\n",
       "      <td>NaN</td>\n",
       "      <td>NaN</td>\n",
       "      <td>NaN</td>\n",
       "      <td>NaN</td>\n",
       "      <td>NaN</td>\n",
       "      <td>NaN</td>\n",
       "      <td>NaN</td>\n",
       "      <td>19.60</td>\n",
       "      <td>20.05</td>\n",
       "      <td>0.45</td>\n",
       "      <td>1.29</td>\n",
       "      <td>6.53</td>\n",
       "      <td>628.80</td>\n",
       "      <td>682.60</td>\n",
       "      <td>628.80</td>\n",
       "      <td>-0.46</td>\n",
       "      <td>-0.91</td>\n",
       "      <td>6.15</td>\n",
       "      <td>11.39</td>\n",
       "    </tr>\n",
       "    <tr>\n",
       "      <th>3</th>\n",
       "      <td>4</td>\n",
       "      <td>female</td>\n",
       "      <td>31.6</td>\n",
       "      <td>19.69</td>\n",
       "      <td>0</td>\n",
       "      <td>0</td>\n",
       "      <td>NaN</td>\n",
       "      <td>NaN</td>\n",
       "      <td>NaN</td>\n",
       "      <td>NaN</td>\n",
       "      <td>NaN</td>\n",
       "      <td>NaN</td>\n",
       "      <td>NaN</td>\n",
       "      <td>19.46</td>\n",
       "      <td>19.50</td>\n",
       "      <td>0.05</td>\n",
       "      <td>1.89</td>\n",
       "      <td>8.28</td>\n",
       "      <td>766.60</td>\n",
       "      <td>784.00</td>\n",
       "      <td>766.60</td>\n",
       "      <td>0.23</td>\n",
       "      <td>0.19</td>\n",
       "      <td>6.20</td>\n",
       "      <td>12.59</td>\n",
       "    </tr>\n",
       "    <tr>\n",
       "      <th>4</th>\n",
       "      <td>5</td>\n",
       "      <td>female</td>\n",
       "      <td>33.0</td>\n",
       "      <td>19.52</td>\n",
       "      <td>0</td>\n",
       "      <td>0</td>\n",
       "      <td>NaN</td>\n",
       "      <td>NaN</td>\n",
       "      <td>NaN</td>\n",
       "      <td>NaN</td>\n",
       "      <td>NaN</td>\n",
       "      <td>NaN</td>\n",
       "      <td>NaN</td>\n",
       "      <td>19.21</td>\n",
       "      <td>19.65</td>\n",
       "      <td>0.45</td>\n",
       "      <td>1.30</td>\n",
       "      <td>6.95</td>\n",
       "      <td>678.00</td>\n",
       "      <td>718.00</td>\n",
       "      <td>678.00</td>\n",
       "      <td>0.31</td>\n",
       "      <td>-0.13</td>\n",
       "      <td>5.78</td>\n",
       "      <td>11.43</td>\n",
       "    </tr>\n",
       "    <tr>\n",
       "      <th>5</th>\n",
       "      <td>6</td>\n",
       "      <td>female</td>\n",
       "      <td>36.2</td>\n",
       "      <td>18.22</td>\n",
       "      <td>4</td>\n",
       "      <td>1</td>\n",
       "      <td>14.00</td>\n",
       "      <td>14.22</td>\n",
       "      <td>15.00</td>\n",
       "      <td>15.78</td>\n",
       "      <td>16.28</td>\n",
       "      <td>93.75</td>\n",
       "      <td>137.00</td>\n",
       "      <td>19.95</td>\n",
       "      <td>20.25</td>\n",
       "      <td>0.29</td>\n",
       "      <td>1.26</td>\n",
       "      <td>6.28</td>\n",
       "      <td>602.20</td>\n",
       "      <td>653.80</td>\n",
       "      <td>695.95</td>\n",
       "      <td>-1.73</td>\n",
       "      <td>-2.03</td>\n",
       "      <td>7.05</td>\n",
       "      <td>12.06</td>\n",
       "    </tr>\n",
       "    <tr>\n",
       "      <th>6</th>\n",
       "      <td>7</td>\n",
       "      <td>male</td>\n",
       "      <td>36.3</td>\n",
       "      <td>19.28</td>\n",
       "      <td>1</td>\n",
       "      <td>1</td>\n",
       "      <td>14.75</td>\n",
       "      <td>15.03</td>\n",
       "      <td>15.92</td>\n",
       "      <td>16.80</td>\n",
       "      <td>16.08</td>\n",
       "      <td>106.00</td>\n",
       "      <td>80.00</td>\n",
       "      <td>20.60</td>\n",
       "      <td>20.96</td>\n",
       "      <td>0.36</td>\n",
       "      <td>2.12</td>\n",
       "      <td>7.27</td>\n",
       "      <td>618.40</td>\n",
       "      <td>655.40</td>\n",
       "      <td>724.40</td>\n",
       "      <td>-1.32</td>\n",
       "      <td>-1.68</td>\n",
       "      <td>6.84</td>\n",
       "      <td>11.99</td>\n",
       "    </tr>\n",
       "    <tr>\n",
       "      <th>7</th>\n",
       "      <td>8</td>\n",
       "      <td>male</td>\n",
       "      <td>30.0</td>\n",
       "      <td>21.06</td>\n",
       "      <td>5</td>\n",
       "      <td>1</td>\n",
       "      <td>13.09</td>\n",
       "      <td>13.43</td>\n",
       "      <td>14.44</td>\n",
       "      <td>15.46</td>\n",
       "      <td>15.82</td>\n",
       "      <td>121.60</td>\n",
       "      <td>163.80</td>\n",
       "      <td>22.01</td>\n",
       "      <td>22.53</td>\n",
       "      <td>0.51</td>\n",
       "      <td>2.92</td>\n",
       "      <td>7.31</td>\n",
       "      <td>526.80</td>\n",
       "      <td>582.40</td>\n",
       "      <td>648.40</td>\n",
       "      <td>-0.95</td>\n",
       "      <td>-1.47</td>\n",
       "      <td>5.86</td>\n",
       "      <td>10.25</td>\n",
       "    </tr>\n",
       "    <tr>\n",
       "      <th>8</th>\n",
       "      <td>9</td>\n",
       "      <td>male</td>\n",
       "      <td>33.2</td>\n",
       "      <td>19.38</td>\n",
       "      <td>2</td>\n",
       "      <td>1</td>\n",
       "      <td>14.41</td>\n",
       "      <td>14.42</td>\n",
       "      <td>15.71</td>\n",
       "      <td>17.01</td>\n",
       "      <td>16.60</td>\n",
       "      <td>155.50</td>\n",
       "      <td>131.25</td>\n",
       "      <td>20.24</td>\n",
       "      <td>20.37</td>\n",
       "      <td>0.13</td>\n",
       "      <td>1.60</td>\n",
       "      <td>6.82</td>\n",
       "      <td>626.80</td>\n",
       "      <td>660.33</td>\n",
       "      <td>782.30</td>\n",
       "      <td>-0.86</td>\n",
       "      <td>-0.99</td>\n",
       "      <td>6.22</td>\n",
       "      <td>11.44</td>\n",
       "    </tr>\n",
       "    <tr>\n",
       "      <th>9</th>\n",
       "      <td>10</td>\n",
       "      <td>female</td>\n",
       "      <td>37.1</td>\n",
       "      <td>19.93</td>\n",
       "      <td>3</td>\n",
       "      <td>1</td>\n",
       "      <td>13.12</td>\n",
       "      <td>13.42</td>\n",
       "      <td>14.31</td>\n",
       "      <td>15.19</td>\n",
       "      <td>15.30</td>\n",
       "      <td>106.67</td>\n",
       "      <td>130.67</td>\n",
       "      <td>20.78</td>\n",
       "      <td>21.63</td>\n",
       "      <td>0.84</td>\n",
       "      <td>2.20</td>\n",
       "      <td>6.52</td>\n",
       "      <td>549.50</td>\n",
       "      <td>626.00</td>\n",
       "      <td>656.17</td>\n",
       "      <td>-0.76</td>\n",
       "      <td>-1.82</td>\n",
       "      <td>6.21</td>\n",
       "      <td>10.59</td>\n",
       "    </tr>\n",
       "    <tr>\n",
       "      <th>10</th>\n",
       "      <td>11</td>\n",
       "      <td>male</td>\n",
       "      <td>32.9</td>\n",
       "      <td>18.79</td>\n",
       "      <td>4</td>\n",
       "      <td>1</td>\n",
       "      <td>13.99</td>\n",
       "      <td>14.03</td>\n",
       "      <td>14.85</td>\n",
       "      <td>15.68</td>\n",
       "      <td>16.10</td>\n",
       "      <td>98.75</td>\n",
       "      <td>126.60</td>\n",
       "      <td>19.45</td>\n",
       "      <td>19.88</td>\n",
       "      <td>0.44</td>\n",
       "      <td>1.34</td>\n",
       "      <td>6.80</td>\n",
       "      <td>655.20</td>\n",
       "      <td>694.80</td>\n",
       "      <td>753.95</td>\n",
       "      <td>-0.66</td>\n",
       "      <td>-1.09</td>\n",
       "      <td>6.55</td>\n",
       "      <td>12.01</td>\n",
       "    </tr>\n",
       "    <tr>\n",
       "      <th>11</th>\n",
       "      <td>12</td>\n",
       "      <td>female</td>\n",
       "      <td>35.0</td>\n",
       "      <td>19.65</td>\n",
       "      <td>5</td>\n",
       "      <td>1</td>\n",
       "      <td>13.18</td>\n",
       "      <td>13.45</td>\n",
       "      <td>14.33</td>\n",
       "      <td>15.21</td>\n",
       "      <td>15.35</td>\n",
       "      <td>105.80</td>\n",
       "      <td>130.40</td>\n",
       "      <td>20.18</td>\n",
       "      <td>20.84</td>\n",
       "      <td>0.66</td>\n",
       "      <td>1.93</td>\n",
       "      <td>7.03</td>\n",
       "      <td>611.20</td>\n",
       "      <td>660.40</td>\n",
       "      <td>717.00</td>\n",
       "      <td>-0.53</td>\n",
       "      <td>-1.19</td>\n",
       "      <td>6.28</td>\n",
       "      <td>11.38</td>\n",
       "    </tr>\n",
       "    <tr>\n",
       "      <th>12</th>\n",
       "      <td>13</td>\n",
       "      <td>male</td>\n",
       "      <td>35.1</td>\n",
       "      <td>19.83</td>\n",
       "      <td>3</td>\n",
       "      <td>1</td>\n",
       "      <td>13.94</td>\n",
       "      <td>14.48</td>\n",
       "      <td>15.26</td>\n",
       "      <td>16.03</td>\n",
       "      <td>15.78</td>\n",
       "      <td>93.33</td>\n",
       "      <td>110.20</td>\n",
       "      <td>20.22</td>\n",
       "      <td>20.89</td>\n",
       "      <td>0.67</td>\n",
       "      <td>1.99</td>\n",
       "      <td>7.09</td>\n",
       "      <td>611.80</td>\n",
       "      <td>662.20</td>\n",
       "      <td>705.13</td>\n",
       "      <td>-0.39</td>\n",
       "      <td>-1.06</td>\n",
       "      <td>6.16</td>\n",
       "      <td>11.26</td>\n",
       "    </tr>\n",
       "    <tr>\n",
       "      <th>13</th>\n",
       "      <td>14</td>\n",
       "      <td>female</td>\n",
       "      <td>35.6</td>\n",
       "      <td>19.88</td>\n",
       "      <td>4</td>\n",
       "      <td>1</td>\n",
       "      <td>12.68</td>\n",
       "      <td>13.08</td>\n",
       "      <td>13.92</td>\n",
       "      <td>14.76</td>\n",
       "      <td>15.00</td>\n",
       "      <td>100.75</td>\n",
       "      <td>139.33</td>\n",
       "      <td>20.26</td>\n",
       "      <td>20.80</td>\n",
       "      <td>0.54</td>\n",
       "      <td>1.96</td>\n",
       "      <td>7.11</td>\n",
       "      <td>618.80</td>\n",
       "      <td>671.20</td>\n",
       "      <td>719.55</td>\n",
       "      <td>-0.38</td>\n",
       "      <td>-0.92</td>\n",
       "      <td>6.08</td>\n",
       "      <td>11.23</td>\n",
       "    </tr>\n",
       "    <tr>\n",
       "      <th>14</th>\n",
       "      <td>15</td>\n",
       "      <td>female</td>\n",
       "      <td>36.6</td>\n",
       "      <td>19.94</td>\n",
       "      <td>4</td>\n",
       "      <td>1</td>\n",
       "      <td>12.71</td>\n",
       "      <td>12.88</td>\n",
       "      <td>13.80</td>\n",
       "      <td>14.72</td>\n",
       "      <td>14.88</td>\n",
       "      <td>110.75</td>\n",
       "      <td>130.00</td>\n",
       "      <td>20.28</td>\n",
       "      <td>20.92</td>\n",
       "      <td>0.64</td>\n",
       "      <td>1.49</td>\n",
       "      <td>6.33</td>\n",
       "      <td>548.00</td>\n",
       "      <td>595.00</td>\n",
       "      <td>658.75</td>\n",
       "      <td>-0.34</td>\n",
       "      <td>-0.90</td>\n",
       "      <td>5.64</td>\n",
       "      <td>10.39</td>\n",
       "    </tr>\n",
       "    <tr>\n",
       "      <th>15</th>\n",
       "      <td>16</td>\n",
       "      <td>male</td>\n",
       "      <td>36.5</td>\n",
       "      <td>20.25</td>\n",
       "      <td>3</td>\n",
       "      <td>1</td>\n",
       "      <td>13.74</td>\n",
       "      <td>14.68</td>\n",
       "      <td>15.66</td>\n",
       "      <td>16.64</td>\n",
       "      <td>16.45</td>\n",
       "      <td>117.33</td>\n",
       "      <td>162.75</td>\n",
       "      <td>20.46</td>\n",
       "      <td>21.25</td>\n",
       "      <td>0.79</td>\n",
       "      <td>2.19</td>\n",
       "      <td>7.13</td>\n",
       "      <td>593.25</td>\n",
       "      <td>662.00</td>\n",
       "      <td>710.58</td>\n",
       "      <td>-0.21</td>\n",
       "      <td>-1.00</td>\n",
       "      <td>5.94</td>\n",
       "      <td>10.88</td>\n",
       "    </tr>\n",
       "    <tr>\n",
       "      <th>16</th>\n",
       "      <td>17</td>\n",
       "      <td>female</td>\n",
       "      <td>33.7</td>\n",
       "      <td>20.33</td>\n",
       "      <td>5</td>\n",
       "      <td>1</td>\n",
       "      <td>13.15</td>\n",
       "      <td>13.87</td>\n",
       "      <td>14.49</td>\n",
       "      <td>15.11</td>\n",
       "      <td>15.40</td>\n",
       "      <td>74.20</td>\n",
       "      <td>135.00</td>\n",
       "      <td>20.43</td>\n",
       "      <td>21.03</td>\n",
       "      <td>0.60</td>\n",
       "      <td>2.44</td>\n",
       "      <td>7.86</td>\n",
       "      <td>649.80</td>\n",
       "      <td>708.60</td>\n",
       "      <td>724.00</td>\n",
       "      <td>-0.10</td>\n",
       "      <td>-0.70</td>\n",
       "      <td>6.12</td>\n",
       "      <td>11.53</td>\n",
       "    </tr>\n",
       "    <tr>\n",
       "      <th>17</th>\n",
       "      <td>18</td>\n",
       "      <td>male</td>\n",
       "      <td>36.4</td>\n",
       "      <td>20.16</td>\n",
       "      <td>5</td>\n",
       "      <td>1</td>\n",
       "      <td>12.47</td>\n",
       "      <td>12.56</td>\n",
       "      <td>13.30</td>\n",
       "      <td>14.05</td>\n",
       "      <td>14.25</td>\n",
       "      <td>89.80</td>\n",
       "      <td>107.00</td>\n",
       "      <td>20.02</td>\n",
       "      <td>20.45</td>\n",
       "      <td>0.43</td>\n",
       "      <td>1.23</td>\n",
       "      <td>6.01</td>\n",
       "      <td>573.60</td>\n",
       "      <td>614.60</td>\n",
       "      <td>663.40</td>\n",
       "      <td>0.14</td>\n",
       "      <td>-0.29</td>\n",
       "      <td>5.07</td>\n",
       "      <td>9.85</td>\n",
       "    </tr>\n",
       "    <tr>\n",
       "      <th>18</th>\n",
       "      <td>19</td>\n",
       "      <td>female</td>\n",
       "      <td>33.6</td>\n",
       "      <td>19.68</td>\n",
       "      <td>3</td>\n",
       "      <td>1</td>\n",
       "      <td>14.71</td>\n",
       "      <td>14.85</td>\n",
       "      <td>15.46</td>\n",
       "      <td>16.07</td>\n",
       "      <td>16.20</td>\n",
       "      <td>73.00</td>\n",
       "      <td>89.40</td>\n",
       "      <td>19.50</td>\n",
       "      <td>19.64</td>\n",
       "      <td>0.14</td>\n",
       "      <td>1.42</td>\n",
       "      <td>7.20</td>\n",
       "      <td>693.40</td>\n",
       "      <td>715.00</td>\n",
       "      <td>766.40</td>\n",
       "      <td>0.18</td>\n",
       "      <td>0.04</td>\n",
       "      <td>5.74</td>\n",
       "      <td>11.52</td>\n",
       "    </tr>\n",
       "    <tr>\n",
       "      <th>19</th>\n",
       "      <td>20</td>\n",
       "      <td>male</td>\n",
       "      <td>33.8</td>\n",
       "      <td>20.51</td>\n",
       "      <td>3</td>\n",
       "      <td>1</td>\n",
       "      <td>12.68</td>\n",
       "      <td>13.54</td>\n",
       "      <td>14.30</td>\n",
       "      <td>15.07</td>\n",
       "      <td>15.23</td>\n",
       "      <td>91.67</td>\n",
       "      <td>152.67</td>\n",
       "      <td>20.18</td>\n",
       "      <td>21.38</td>\n",
       "      <td>1.19</td>\n",
       "      <td>2.51</td>\n",
       "      <td>7.63</td>\n",
       "      <td>615.33</td>\n",
       "      <td>692.00</td>\n",
       "      <td>707.00</td>\n",
       "      <td>0.33</td>\n",
       "      <td>-0.87</td>\n",
       "      <td>6.00</td>\n",
       "      <td>11.12</td>\n",
       "    </tr>\n",
       "  </tbody>\n",
       "</table>\n",
       "</div>"
      ],
      "text/plain": [
       "    id     sex  age (months)  dlmo time  days napped  napping  \\\n",
       "0    1  female          33.7      19.24            0        0   \n",
       "1    2  female          31.5      18.27            0        0   \n",
       "2    3    male          31.9      19.14            0        0   \n",
       "3    4  female          31.6      19.69            0        0   \n",
       "4    5  female          33.0      19.52            0        0   \n",
       "5    6  female          36.2      18.22            4        1   \n",
       "6    7    male          36.3      19.28            1        1   \n",
       "7    8    male          30.0      21.06            5        1   \n",
       "8    9    male          33.2      19.38            2        1   \n",
       "9   10  female          37.1      19.93            3        1   \n",
       "10  11    male          32.9      18.79            4        1   \n",
       "11  12  female          35.0      19.65            5        1   \n",
       "12  13    male          35.1      19.83            3        1   \n",
       "13  14  female          35.6      19.88            4        1   \n",
       "14  15  female          36.6      19.94            4        1   \n",
       "15  16    male          36.5      20.25            3        1   \n",
       "16  17  female          33.7      20.33            5        1   \n",
       "17  18    male          36.4      20.16            5        1   \n",
       "18  19  female          33.6      19.68            3        1   \n",
       "19  20    male          33.8      20.51            3        1   \n",
       "\n",
       "    nap lights outl time  nap sleep onset  nap midsleep  nap sleep offset  \\\n",
       "0                    NaN              NaN           NaN               NaN   \n",
       "1                    NaN              NaN           NaN               NaN   \n",
       "2                    NaN              NaN           NaN               NaN   \n",
       "3                    NaN              NaN           NaN               NaN   \n",
       "4                    NaN              NaN           NaN               NaN   \n",
       "5                  14.00            14.22         15.00             15.78   \n",
       "6                  14.75            15.03         15.92             16.80   \n",
       "7                  13.09            13.43         14.44             15.46   \n",
       "8                  14.41            14.42         15.71             17.01   \n",
       "9                  13.12            13.42         14.31             15.19   \n",
       "10                 13.99            14.03         14.85             15.68   \n",
       "11                 13.18            13.45         14.33             15.21   \n",
       "12                 13.94            14.48         15.26             16.03   \n",
       "13                 12.68            13.08         13.92             14.76   \n",
       "14                 12.71            12.88         13.80             14.72   \n",
       "15                 13.74            14.68         15.66             16.64   \n",
       "16                 13.15            13.87         14.49             15.11   \n",
       "17                 12.47            12.56         13.30             14.05   \n",
       "18                 14.71            14.85         15.46             16.07   \n",
       "19                 12.68            13.54         14.30             15.07   \n",
       "\n",
       "    nap wake time  nap duration  nap time in bed  night bedtime  \\\n",
       "0             NaN           NaN              NaN          20.45   \n",
       "1             NaN           NaN              NaN          19.23   \n",
       "2             NaN           NaN              NaN          19.60   \n",
       "3             NaN           NaN              NaN          19.46   \n",
       "4             NaN           NaN              NaN          19.21   \n",
       "5           16.28         93.75           137.00          19.95   \n",
       "6           16.08        106.00            80.00          20.60   \n",
       "7           15.82        121.60           163.80          22.01   \n",
       "8           16.60        155.50           131.25          20.24   \n",
       "9           15.30        106.67           130.67          20.78   \n",
       "10          16.10         98.75           126.60          19.45   \n",
       "11          15.35        105.80           130.40          20.18   \n",
       "12          15.78         93.33           110.20          20.22   \n",
       "13          15.00        100.75           139.33          20.26   \n",
       "14          14.88        110.75           130.00          20.28   \n",
       "15          16.45        117.33           162.75          20.46   \n",
       "16          15.40         74.20           135.00          20.43   \n",
       "17          14.25         89.80           107.00          20.02   \n",
       "18          16.20         73.00            89.40          19.50   \n",
       "19          15.23         91.67           152.67          20.18   \n",
       "\n",
       "    night sleep onset  sleep onset latency  night midsleep time  \\\n",
       "0               20.68                 0.23                 1.92   \n",
       "1               19.48                 0.25                 1.09   \n",
       "2               20.05                 0.45                 1.29   \n",
       "3               19.50                 0.05                 1.89   \n",
       "4               19.65                 0.45                 1.30   \n",
       "5               20.25                 0.29                 1.26   \n",
       "6               20.96                 0.36                 2.12   \n",
       "7               22.53                 0.51                 2.92   \n",
       "8               20.37                 0.13                 1.60   \n",
       "9               21.63                 0.84                 2.20   \n",
       "10              19.88                 0.44                 1.34   \n",
       "11              20.84                 0.66                 1.93   \n",
       "12              20.89                 0.67                 1.99   \n",
       "13              20.80                 0.54                 1.96   \n",
       "14              20.92                 0.64                 1.49   \n",
       "15              21.25                 0.79                 2.19   \n",
       "16              21.03                 0.60                 2.44   \n",
       "17              20.45                 0.43                 1.23   \n",
       "18              19.64                 0.14                 1.42   \n",
       "19              21.38                 1.19                 2.51   \n",
       "\n",
       "    night wake time  night sleep duration  night time in bed  \\\n",
       "0              7.17                629.40             643.00   \n",
       "1              6.69                672.40             700.40   \n",
       "2              6.53                628.80             682.60   \n",
       "3              8.28                766.60             784.00   \n",
       "4              6.95                678.00             718.00   \n",
       "5              6.28                602.20             653.80   \n",
       "6              7.27                618.40             655.40   \n",
       "7              7.31                526.80             582.40   \n",
       "8              6.82                626.80             660.33   \n",
       "9              6.52                549.50             626.00   \n",
       "10             6.80                655.20             694.80   \n",
       "11             7.03                611.20             660.40   \n",
       "12             7.09                611.80             662.20   \n",
       "13             7.11                618.80             671.20   \n",
       "14             6.33                548.00             595.00   \n",
       "15             7.13                593.25             662.00   \n",
       "16             7.86                649.80             708.60   \n",
       "17             6.01                573.60             614.60   \n",
       "18             7.20                693.40             715.00   \n",
       "19             7.63                615.33             692.00   \n",
       "\n",
       "    24 h sleep duration  bedtime phase difference  \\\n",
       "0                629.40                     -1.21   \n",
       "1                672.40                     -0.96   \n",
       "2                628.80                     -0.46   \n",
       "3                766.60                      0.23   \n",
       "4                678.00                      0.31   \n",
       "5                695.95                     -1.73   \n",
       "6                724.40                     -1.32   \n",
       "7                648.40                     -0.95   \n",
       "8                782.30                     -0.86   \n",
       "9                656.17                     -0.76   \n",
       "10               753.95                     -0.66   \n",
       "11               717.00                     -0.53   \n",
       "12               705.13                     -0.39   \n",
       "13               719.55                     -0.38   \n",
       "14               658.75                     -0.34   \n",
       "15               710.58                     -0.21   \n",
       "16               724.00                     -0.10   \n",
       "17               663.40                      0.14   \n",
       "18               766.40                      0.18   \n",
       "19               707.00                      0.33   \n",
       "\n",
       "    sleep onset phase difference  midsleep phase difference  \\\n",
       "0                          -1.44                       6.68   \n",
       "1                          -1.21                       6.82   \n",
       "2                          -0.91                       6.15   \n",
       "3                           0.19                       6.20   \n",
       "4                          -0.13                       5.78   \n",
       "5                          -2.03                       7.05   \n",
       "6                          -1.68                       6.84   \n",
       "7                          -1.47                       5.86   \n",
       "8                          -0.99                       6.22   \n",
       "9                          -1.82                       6.21   \n",
       "10                         -1.09                       6.55   \n",
       "11                         -1.19                       6.28   \n",
       "12                         -1.06                       6.16   \n",
       "13                         -0.92                       6.08   \n",
       "14                         -0.90                       5.64   \n",
       "15                         -1.00                       5.94   \n",
       "16                         -0.70                       6.12   \n",
       "17                         -0.29                       5.07   \n",
       "18                          0.04                       5.74   \n",
       "19                         -0.87                       6.00   \n",
       "\n",
       "    wake time phase difference  \n",
       "0                        11.93  \n",
       "1                        12.42  \n",
       "2                        11.39  \n",
       "3                        12.59  \n",
       "4                        11.43  \n",
       "5                        12.06  \n",
       "6                        11.99  \n",
       "7                        10.25  \n",
       "8                        11.44  \n",
       "9                        10.59  \n",
       "10                       12.01  \n",
       "11                       11.38  \n",
       "12                       11.26  \n",
       "13                       11.23  \n",
       "14                       10.39  \n",
       "15                       10.88  \n",
       "16                       11.53  \n",
       "17                        9.85  \n",
       "18                       11.52  \n",
       "19                       11.12  "
      ]
     },
     "execution_count": 29,
     "metadata": {
      "tags": []
     },
     "output_type": "execute_result"
    }
   ],
   "source": [
    "# First, look at the DataFrame to get a sense of the data\n",
    "da"
   ]
  },
  {
   "cell_type": "markdown",
   "metadata": {
    "id": "VfZxEx3gNDor"
   },
   "source": [
    "**Question**: What variable is used in the column 'napping' to indicate a toddler takes a nap?\n",
    "\n",
    " - 0, 1\n",
    "\n",
    "**Question**: What is the sample size $n$?\n",
    "\n",
    "- 20.\n"
   ]
  },
  {
   "cell_type": "code",
   "execution_count": null,
   "metadata": {
    "colab": {
     "base_uri": "https://localhost:8080/"
    },
    "id": "GYqkgfjEBGSK",
    "outputId": "f1a04189-14f3-4459-ce3d-e642f31bcf24"
   },
   "outputs": [
    {
     "data": {
      "text/plain": [
       "1    15\n",
       "0     5\n",
       "Name: napping, dtype: int64"
      ]
     },
     "execution_count": 30,
     "metadata": {
      "tags": []
     },
     "output_type": "execute_result"
    }
   ],
   "source": [
    "da.napping.value_counts()"
   ]
  },
  {
   "cell_type": "code",
   "execution_count": null,
   "metadata": {
    "id": "uNfRJ5RuBGSK"
   },
   "outputs": [],
   "source": [
    "n1 = 15\n",
    "n2 = 5"
   ]
  },
  {
   "cell_type": "markdown",
   "metadata": {
    "id": "9djLvqwJNDos"
   },
   "source": [
    "## Hypothesis testing\n",
    "We will look at two hypothesis test, each with $\\alpha = .025$:  \n",
    "\n",
    "\n",
    "1. Is the average bedtime for toddlers who nap later than the average bedtime for toddlers who don't nap?\n",
    "\n",
    "\n",
    "$$H_0: \\mu_{nap}=\\mu_{no\\ nap}, \\ H_a:\\mu_{nap}>\\mu_{no\\ nap}$$\n",
    "Or equivalently:\n",
    "$$H_0: \\mu_{nap}-\\mu_{no\\ nap}=0, \\ H_a:\\mu_{nap}-\\mu_{no\\ nap}>0$$\n",
    "\n",
    "\n",
    "2. The average 24 h sleep duration (in minutes) for napping toddlers is different from toddlers who don't nap.\n",
    "\n",
    "\n",
    "$$H_0: \\mu_{nap}=\\mu_{no\\ nap}, \\ H_a:\\mu_{nap}\\neq\\mu_{no\\ nap}$$\n",
    "Or equivalenty:\n",
    "$$H_0: \\mu_{nap}-\\mu_{no\\ nap}=0, \\ H_a:\\mu_{nap}-\\mu_{no\\ nap} \\neq 0$$\n",
    "\n",
    "Aside: This $\\alpha$ level is equivalent to $\\alpha = .05$ and then applying the [Bonferonni correction](https://en.wikipedia.org/wiki/Bonferroni_correction)."
   ]
  },
  {
   "cell_type": "markdown",
   "metadata": {
    "id": "WprO1i-ONDot"
   },
   "source": [
    "Before any analysis, we will convert 'night bedtime' into decimalized time. "
   ]
  },
  {
   "cell_type": "code",
   "execution_count": null,
   "metadata": {
    "id": "KReCXeO_NDou"
   },
   "outputs": [],
   "source": [
    "# Convert 'night bedtime' into decimalized time\n",
    "da.loc[:,'night bedtime'] = np.floor(da['night bedtime'])*60 + np.round(da['night bedtime']%1,2 )*100"
   ]
  },
  {
   "cell_type": "markdown",
   "metadata": {
    "id": "VJyTAzZcNDox"
   },
   "source": [
    "Now, isolate the column 'night bedtime' for those who nap into a new variable, and those who didn't nap into another new variable. "
   ]
  },
  {
   "cell_type": "code",
   "execution_count": null,
   "metadata": {
    "colab": {
     "base_uri": "https://localhost:8080/"
    },
    "id": "5gZyghIbNDoy",
    "outputId": "813c1aa3-294e-4852-d981-582156ba08c0"
   },
   "outputs": [
    {
     "data": {
      "text/plain": [
       "5     1235.0\n",
       "6     1260.0\n",
       "7     1321.0\n",
       "8     1224.0\n",
       "9     1278.0\n",
       "10    1185.0\n",
       "11    1218.0\n",
       "12    1222.0\n",
       "13    1226.0\n",
       "14    1228.0\n",
       "15    1246.0\n",
       "16    1243.0\n",
       "17    1202.0\n",
       "18    1190.0\n",
       "19    1218.0\n",
       "Name: night bedtime, dtype: float64"
      ]
     },
     "execution_count": 33,
     "metadata": {
      "tags": []
     },
     "output_type": "execute_result"
    }
   ],
   "source": [
    "nap_bedtime = da.loc[da.napping > 0, 'night bedtime']\n",
    "nap_bedtime"
   ]
  },
  {
   "cell_type": "code",
   "execution_count": null,
   "metadata": {
    "colab": {
     "base_uri": "https://localhost:8080/"
    },
    "id": "yoX2nh1RNDo0",
    "outputId": "b699e319-d0a9-4bb9-d606-91c9d5de5bd2"
   },
   "outputs": [
    {
     "data": {
      "text/plain": [
       "0    1245.0\n",
       "1    1163.0\n",
       "2    1200.0\n",
       "3    1186.0\n",
       "4    1161.0\n",
       "Name: night bedtime, dtype: float64"
      ]
     },
     "execution_count": 34,
     "metadata": {
      "tags": []
     },
     "output_type": "execute_result"
    }
   ],
   "source": [
    "no_nap_bedtime = da.loc[da.napping == 0, 'night bedtime']\n",
    "no_nap_bedtime"
   ]
  },
  {
   "cell_type": "markdown",
   "metadata": {
    "id": "ZEqxhPObNDo3"
   },
   "source": [
    "Now find the sample mean bedtime for nap and no_nap."
   ]
  },
  {
   "cell_type": "code",
   "execution_count": null,
   "metadata": {
    "colab": {
     "base_uri": "https://localhost:8080/"
    },
    "id": "ySJiflu5NDo5",
    "outputId": "cb81324a-dd06-46b8-95cc-e74ffe24d61b"
   },
   "outputs": [
    {
     "data": {
      "text/plain": [
       "1233.0666666666666"
      ]
     },
     "execution_count": 35,
     "metadata": {
      "tags": []
     },
     "output_type": "execute_result"
    }
   ],
   "source": [
    "nap_mean_bedtime = nap_bedtime.mean()\n",
    "nap_mean_bedtime"
   ]
  },
  {
   "cell_type": "code",
   "execution_count": null,
   "metadata": {
    "colab": {
     "base_uri": "https://localhost:8080/"
    },
    "id": "IV2eUZAtNDo9",
    "outputId": "c60e415d-748c-4a08-9ba2-26cb34654f44"
   },
   "outputs": [
    {
     "data": {
      "text/plain": [
       "1191.0"
      ]
     },
     "execution_count": 36,
     "metadata": {
      "tags": []
     },
     "output_type": "execute_result"
    }
   ],
   "source": [
    "no_nap_mean_bedtime = no_nap_bedtime.mean()\n",
    "no_nap_mean_bedtime"
   ]
  },
  {
   "cell_type": "markdown",
   "metadata": {
    "id": "rfkfO53IZVd-"
   },
   "source": [
    "**Question**: What is the sample difference of mean bedtime for nappers minus no nappers?"
   ]
  },
  {
   "cell_type": "code",
   "execution_count": null,
   "metadata": {
    "colab": {
     "base_uri": "https://localhost:8080/"
    },
    "id": "BmqXk6QGBGSN",
    "outputId": "8388cf07-ed6f-47d0-c9f0-77a71c6ddf68"
   },
   "outputs": [
    {
     "data": {
      "text/plain": [
       "42.066666666666606"
      ]
     },
     "execution_count": 37,
     "metadata": {
      "tags": []
     },
     "output_type": "execute_result"
    }
   ],
   "source": [
    "x = nap_mean_bedtime - no_nap_mean_bedtime\n",
    "x"
   ]
  },
  {
   "cell_type": "markdown",
   "metadata": {
    "id": "qm-fIbluNDpA"
   },
   "source": [
    "Now find the sample standard deviation for $X_{nap}$ and $X_{no\\ nap}$."
   ]
  },
  {
   "cell_type": "code",
   "execution_count": null,
   "metadata": {
    "colab": {
     "base_uri": "https://localhost:8080/"
    },
    "id": "G5X_l8-qNDpA",
    "outputId": "7c5b5b3b-fbe9-4b75-c119-95913d1d29a9"
   },
   "outputs": [
    {
     "data": {
      "text/plain": [
       "34.445540177143954"
      ]
     },
     "execution_count": 38,
     "metadata": {
      "tags": []
     },
     "output_type": "execute_result"
    }
   ],
   "source": [
    "nap_s_bedtime = np.std(nap_bedtime, ddof=1)\n",
    "nap_s_bedtime"
   ]
  },
  {
   "cell_type": "code",
   "execution_count": null,
   "metadata": {
    "colab": {
     "base_uri": "https://localhost:8080/"
    },
    "id": "2Y29xWT5NDpD",
    "outputId": "932892a1-2e15-4cd5-cdae-9db2fef19838"
   },
   "outputs": [
    {
     "data": {
      "text/plain": [
       "34.30014577228499"
      ]
     },
     "execution_count": 39,
     "metadata": {
      "tags": []
     },
     "output_type": "execute_result"
    }
   ],
   "source": [
    "no_nap_s_bedtime = np.std(no_nap_bedtime, ddof=1)\n",
    "no_nap_s_bedtime"
   ]
  },
  {
   "cell_type": "markdown",
   "metadata": {
    "id": "zikRy_GINDpF"
   },
   "source": [
    "**Question**: What is the s.e.$(\\bar{X}_{nap} - \\bar{X}_{no\\ nap})$?\n",
    "\n",
    "We expect the variance in sleep time for toddlers who nap and toddlers who don't nap to be the same. So we use a pooled standard error.\n",
    "\n",
    "Calculate the pooled standard error of $\\bar{X}_{nap} - \\bar{X}_{no\\ nap}$ using the formula below.\n",
    "\n",
    "$s.e.(\\bar{X}_{nap} - \\bar{X}_{no\\ nap}) = \\sqrt{\\frac{(n_1-1)s_1^2 + (n_2-1)s_2^2}{n_1+n_2-2}(\\frac{1}{n_1}+\\frac{1}{n_2})}$"
   ]
  },
  {
   "cell_type": "code",
   "execution_count": null,
   "metadata": {
    "colab": {
     "base_uri": "https://localhost:8080/"
    },
    "id": "KZUAaqFYNDpF",
    "outputId": "2ee9a445-2fcc-415e-b6ff-d10fc7c0d9fd"
   },
   "outputs": [
    {
     "data": {
      "text/plain": [
       "17.77094313065816"
      ]
     },
     "execution_count": 40,
     "metadata": {
      "tags": []
     },
     "output_type": "execute_result"
    }
   ],
   "source": [
    "pooled_se = np.sqrt(((((n1 - 1) * nap_s_bedtime**2) + ((n2 - 1) * no_nap_s_bedtime**2)) / (n1 + n2 - 2)) * ((1 / n1) + (1 / n2)))\n",
    "pooled_se"
   ]
  },
  {
   "cell_type": "markdown",
   "metadata": {
    "id": "63-jF9fmNDpI"
   },
   "source": [
    "**Question**: Given our sample size of $n$, how many degrees of freedom ($df$) are there for the associated $t$ distribution?\n",
    "\n",
    " "
   ]
  },
  {
   "cell_type": "code",
   "execution_count": null,
   "metadata": {
    "id": "VDcaXzp6BGSP"
   },
   "outputs": [],
   "source": [
    "df = 19"
   ]
  },
  {
   "cell_type": "markdown",
   "metadata": {
    "id": "S3DC4b-iNDpI"
   },
   "source": [
    "Now calculate the $t$-test statistic for our first hypothesis test using  \n",
    "* pooled s.e.($\\bar{X}_{nap} - \\bar{X}_{no\\ nap}$)  \n",
    "* $\\bar{X}_{nap} - \\bar{X}_{no\\ nap}$  \n",
    "* $\\mu_{0,\\ nap} - \\mu_{0,\\ no\\ nap}=0$, the population difference in means under the null hypothesis"
   ]
  },
  {
   "cell_type": "code",
   "execution_count": null,
   "metadata": {
    "colab": {
     "base_uri": "https://localhost:8080/"
    },
    "id": "J6QYPGMHBGSQ",
    "outputId": "0ad54f14-5207-4503-eddc-f6b022cb397c"
   },
   "outputs": [
    {
     "data": {
      "text/plain": [
       "2.367160052079275"
      ]
     },
     "execution_count": 42,
     "metadata": {
      "tags": []
     },
     "output_type": "execute_result"
    }
   ],
   "source": [
    "test_stat = x  / pooled_se\n",
    "test_stat"
   ]
  },
  {
   "cell_type": "markdown",
   "metadata": {
    "id": "vpGx3jGXNDpJ"
   },
   "source": [
    "**Question**: What is the p-value for the first hypothesis test?"
   ]
  },
  {
   "cell_type": "markdown",
   "metadata": {
    "id": "YSys0xG3NDpK"
   },
   "source": [
    "To find the p-value, we can use the function:\n",
    "```\n",
    "t.cdf(y, df)\n",
    "```\n",
    "Which for $X \\sim t(df)$ returns $P(X \\leq y)$.\n",
    "\n",
    "Because of the symmetry of the $t$ distrubution, we have that \n",
    "```\n",
    "1-t.cdf(y, df)\n",
    "```\n",
    "returns $P(X > y)$\n",
    "\n",
    "The function t.cdf(y, df) will give you the same value as finding the one-tailed probability of y on a t-table with the specified degrees of freedom.\n",
    "\n",
    "Use the function t.cdf(y, df) to find the p-value for the first hypothesis test."
   ]
  },
  {
   "cell_type": "code",
   "execution_count": 1,
   "metadata": {
    "colab": {
     "base_uri": "https://localhost:8080/"
    },
    "id": "onJwGMApNDpM",
    "outputId": "76ff6dfd-879e-46db-e566-5bb36a1d9621"
   },
   "outputs": [
    {
     "ename": "NameError",
     "evalue": "name 't' is not defined",
     "output_type": "error",
     "traceback": [
      "\u001b[1;31m---------------------------------------------------------------------------\u001b[0m",
      "\u001b[1;31mNameError\u001b[0m                                 Traceback (most recent call last)",
      "\u001b[1;32m<ipython-input-1-b99c1c7e04f6>\u001b[0m in \u001b[0;36m<module>\u001b[1;34m\u001b[0m\n\u001b[1;32m----> 1\u001b[1;33m \u001b[0mp_value\u001b[0m \u001b[1;33m=\u001b[0m \u001b[1;36m2\u001b[0m \u001b[1;33m*\u001b[0m \u001b[1;33m(\u001b[0m\u001b[1;36m1\u001b[0m \u001b[1;33m-\u001b[0m \u001b[0mt\u001b[0m\u001b[1;33m.\u001b[0m\u001b[0mcdf\u001b[0m\u001b[1;33m(\u001b[0m\u001b[0mtest_stat\u001b[0m\u001b[1;33m,\u001b[0m \u001b[0mdf\u001b[0m\u001b[1;33m)\u001b[0m\u001b[1;33m)\u001b[0m\u001b[1;33m\u001b[0m\u001b[1;33m\u001b[0m\u001b[0m\n\u001b[0m\u001b[0;32m      2\u001b[0m \u001b[0mp_value\u001b[0m\u001b[1;33m\u001b[0m\u001b[1;33m\u001b[0m\u001b[0m\n",
      "\u001b[1;31mNameError\u001b[0m: name 't' is not defined"
     ]
    }
   ],
   "source": [
    "p_value = 2 * (1 - t.cdf(test_stat, df))\n",
    "p_value"
   ]
  },
  {
   "cell_type": "markdown",
   "metadata": {
    "id": "ObOjGXrTNDpP"
   },
   "source": [
    "**Question**: What are the t-statistic and p-value for the second hypothesis test?\n",
    "\n",
    "Calculate the $t$ test statistics and corresponding p-value using the scipy function scipy.stats.ttest_ind(a, b, equal_var=True) and check with your answer. \n"
   ]
  },
  {
   "cell_type": "code",
   "execution_count": null,
   "metadata": {
    "colab": {
     "base_uri": "https://localhost:8080/"
    },
    "id": "sQmN_--oBGSR",
    "outputId": "2497f215-0fad-4abd-8fa1-21c62f28d2e0"
   },
   "outputs": [
    {
     "data": {
      "text/plain": [
       "5     695.95\n",
       "6     724.40\n",
       "7     648.40\n",
       "8     782.30\n",
       "9     656.17\n",
       "10    753.95\n",
       "11    717.00\n",
       "12    705.13\n",
       "13    719.55\n",
       "14    658.75\n",
       "15    710.58\n",
       "16    724.00\n",
       "17    663.40\n",
       "18    766.40\n",
       "19    707.00\n",
       "Name: 24 h sleep duration, dtype: float64"
      ]
     },
     "execution_count": 46,
     "metadata": {
      "tags": []
     },
     "output_type": "execute_result"
    }
   ],
   "source": [
    "#What are the t-statistic and p-value for the second hypothesis test?\n",
    "\n",
    "nap_sleepduration = da.loc[da.napping > 0, '24 h sleep duration']\n",
    "nap_sleepduration"
   ]
  },
  {
   "cell_type": "code",
   "execution_count": null,
   "metadata": {
    "colab": {
     "base_uri": "https://localhost:8080/"
    },
    "id": "MuNTklqJBGSR",
    "outputId": "acb9bb14-543f-4f85-bb83-1eb6cfb59711"
   },
   "outputs": [
    {
     "data": {
      "text/plain": [
       "0    629.4\n",
       "1    672.4\n",
       "2    628.8\n",
       "3    766.6\n",
       "4    678.0\n",
       "Name: 24 h sleep duration, dtype: float64"
      ]
     },
     "execution_count": 48,
     "metadata": {
      "tags": []
     },
     "output_type": "execute_result"
    }
   ],
   "source": [
    "no_nap_sleepduration = da.loc[da.napping == 0, '24 h sleep duration']\n",
    "no_nap_sleepduration"
   ]
  },
  {
   "cell_type": "code",
   "execution_count": null,
   "metadata": {
    "colab": {
     "base_uri": "https://localhost:8080/"
    },
    "id": "LHxANnYdBGSR",
    "outputId": "b49db51d-e0d5-4de0-b109-029b26a1561c"
   },
   "outputs": [
    {
     "data": {
      "text/plain": [
       "708.8653333333333"
      ]
     },
     "execution_count": 49,
     "metadata": {
      "tags": []
     },
     "output_type": "execute_result"
    }
   ],
   "source": [
    "nap_mean_sleepduration = nap_sleepduration.mean()\n",
    "nap_mean_sleepduration"
   ]
  },
  {
   "cell_type": "code",
   "execution_count": null,
   "metadata": {
    "colab": {
     "base_uri": "https://localhost:8080/"
    },
    "id": "mkNHlPIjBGSS",
    "outputId": "531a1858-697f-49eb-d372-acc9621308e7"
   },
   "outputs": [
    {
     "data": {
      "text/plain": [
       "675.04"
      ]
     },
     "execution_count": 50,
     "metadata": {
      "tags": []
     },
     "output_type": "execute_result"
    }
   ],
   "source": [
    "no_nap_mean_sleepduration = no_nap_sleepduration.mean()\n",
    "no_nap_mean_sleepduration"
   ]
  },
  {
   "cell_type": "code",
   "execution_count": null,
   "metadata": {
    "colab": {
     "base_uri": "https://localhost:8080/"
    },
    "id": "GO1bKdm8BGSS",
    "outputId": "e9190baa-a41f-4cfa-9645-4cc293e61519"
   },
   "outputs": [
    {
     "data": {
      "text/plain": [
       "33.82533333333333"
      ]
     },
     "execution_count": 51,
     "metadata": {
      "tags": []
     },
     "output_type": "execute_result"
    }
   ],
   "source": [
    "x_sld = nap_mean_sleepduration - no_nap_mean_sleepduration\n",
    "x_sld"
   ]
  },
  {
   "cell_type": "code",
   "execution_count": null,
   "metadata": {
    "colab": {
     "base_uri": "https://localhost:8080/"
    },
    "id": "RepLwhrfBGSS",
    "outputId": "db8c5689-024e-41ca-ed64-d919096e9d08"
   },
   "outputs": [
    {
     "data": {
      "text/plain": [
       "40.164759049741726"
      ]
     },
     "execution_count": 52,
     "metadata": {
      "tags": []
     },
     "output_type": "execute_result"
    }
   ],
   "source": [
    "nap_s_sld = np.std(nap_sleepduration, ddof=1)\n",
    "nap_s_sld"
   ]
  },
  {
   "cell_type": "code",
   "execution_count": null,
   "metadata": {
    "colab": {
     "base_uri": "https://localhost:8080/"
    },
    "id": "zvwbsCeJBGSS",
    "outputId": "1722fd7c-ee3d-428b-b589-dd74a0c2f0b4"
   },
   "outputs": [
    {
     "data": {
      "text/plain": [
       "56.169635925471354"
      ]
     },
     "execution_count": 53,
     "metadata": {
      "tags": []
     },
     "output_type": "execute_result"
    }
   ],
   "source": [
    "no_nap_s_sld = np.std(no_nap_sleepduration, ddof=1)\n",
    "no_nap_s_sld"
   ]
  },
  {
   "cell_type": "code",
   "execution_count": null,
   "metadata": {
    "colab": {
     "base_uri": "https://localhost:8080/"
    },
    "id": "0FSV7ZqHBGST",
    "outputId": "c2412a2e-b53c-43ec-ddbb-eac1e01e19fc"
   },
   "outputs": [
    {
     "data": {
      "text/plain": [
       "22.837598035900864"
      ]
     },
     "execution_count": 54,
     "metadata": {
      "tags": []
     },
     "output_type": "execute_result"
    }
   ],
   "source": [
    "pooled_se_sld = np.sqrt(((((n1 - 1) * nap_s_sld**2) + ((n2 - 1) * no_nap_s_sld**2)) / (n1 + n2 - 2)) * ((1 / n1) + (1 / n2)))\n",
    "pooled_se_sld"
   ]
  },
  {
   "cell_type": "code",
   "execution_count": null,
   "metadata": {
    "id": "Pb-wSYcCBGST"
   },
   "outputs": [],
   "source": [
    "test_stat_sld = x_sld / pooled_se_sld\n",
    "p_value_sld = 2 * (1 - t.cdf(test_stat_sld, df))"
   ]
  },
  {
   "cell_type": "code",
   "execution_count": null,
   "metadata": {
    "colab": {
     "base_uri": "https://localhost:8080/"
    },
    "id": "955pCfiJBGST",
    "outputId": "b919333b-1e81-4c0d-f2f2-744d0585b45f"
   },
   "outputs": [
    {
     "data": {
      "text/plain": [
       "(1.4811248223284985, 0.1549671809948896)"
      ]
     },
     "execution_count": 61,
     "metadata": {
      "tags": []
     },
     "output_type": "execute_result"
    }
   ],
   "source": [
    "(test_stat_sld, p_value_sld)"
   ]
  },
  {
   "cell_type": "code",
   "execution_count": null,
   "metadata": {
    "colab": {
     "base_uri": "https://localhost:8080/"
    },
    "id": "eIifvTiDBGSU",
    "outputId": "b62e9cba-4578-4268-ece7-80842a7417e4"
   },
   "outputs": [
    {
     "data": {
      "text/plain": [
       "Ttest_indResult(statistic=1.4811248223284985, pvalue=0.1558664953018476)"
      ]
     },
     "execution_count": 59,
     "metadata": {
      "tags": []
     },
     "output_type": "execute_result"
    }
   ],
   "source": [
    "scipy.stats.ttest_ind(nap_sleepduration, no_nap_sleepduration, equal_var=True)"
   ]
  },
  {
   "cell_type": "markdown",
   "metadata": {
    "id": "c5nTel3qBGSU"
   },
   "source": [
    "**Question**: Does scipy.stats.ttest_ind return values for a one-sided or two-sided test?\n",
    " - two-sided test."
   ]
  },
  {
   "cell_type": "markdown",
   "metadata": {
    "id": "2K_o1PH1BGSV"
   },
   "source": [
    "**Question**: Can you think of a way to recover the results you got using 1-t.cdf from the p-value given by scipy.stats.ttest_ind?\n",
    " - สามารถทำได้โดยทำการลิสค่าจาก t.cdf(x,df) โดยใช้ x หลายๆเลข แล้วเมื่อได้ค่ามาค่อยไล่หา"
   ]
  },
  {
   "cell_type": "markdown",
   "metadata": {
    "id": "ATF7D28TNDpW"
   },
   "source": [
    "**Question**: For the $\\alpha=.025$, do you reject or fail to reject the first hypothesis?\n",
    "\n"
   ]
  },
  {
   "cell_type": "markdown",
   "metadata": {
    "id": "bzGsaSwCBGSV"
   },
   "source": [
    " - Based on our sample and our p-value, we fail to reject the null hypothesis. We conclude that there is no significant difference between the average bedtime for toddlers who nap and the average bedtime for toddlers who don't nap."
   ]
  },
  {
   "cell_type": "markdown",
   "metadata": {
    "id": "4T2mKNncWT7V"
   },
   "source": [
    "**Question**: For the $\\alpha=.025$, do you reject or fail to reject the second hypothesis?"
   ]
  },
  {
   "cell_type": "markdown",
   "metadata": {
    "id": "BK3bOw2ZBGSV"
   },
   "source": [
    " - Based on our sample and our p-value, we fail to reject the null hypothesis. We conclude that there is no significant difference between The average 24 h sleep duration (in minutes) for napping toddlers and toddlers who don't nap."
   ]
  }
 ],
 "metadata": {
  "colab": {
   "collapsed_sections": [],
   "name": "สำเนาของ Homework-Lab-Chapter-7.ipynb",
   "provenance": []
  },
  "kernelspec": {
   "display_name": "Python 3",
   "language": "python",
   "name": "python3"
  },
  "language_info": {
   "codemirror_mode": {
    "name": "ipython",
    "version": 3
   },
   "file_extension": ".py",
   "mimetype": "text/x-python",
   "name": "python",
   "nbconvert_exporter": "python",
   "pygments_lexer": "ipython3",
   "version": "3.9.1"
  }
 },
 "nbformat": 4,
 "nbformat_minor": 1
}
