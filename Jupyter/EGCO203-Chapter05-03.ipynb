{
 "cells": [
  {
   "cell_type": "code",
   "execution_count": 1,
   "metadata": {},
   "outputs": [],
   "source": [
    "import numpy as np\n",
    "import pandas as pd\n",
    "import matplotlib.pyplot as plt\n",
    "%matplotlib inline"
   ]
  },
  {
   "cell_type": "markdown",
   "metadata": {},
   "source": [
    "## Functions, lambda functions, and reading help documents\n",
    "We are going to introduce a few more python concepts. If you've been working through the NHANES example notebooks, you will have seen these in use already. There is a lot to say about these new concepts, but we will only be giving a brief introduction to each. For more information, follow the links provided or do your own search for the many great resources available on the web.  "
   ]
  },
  {
   "cell_type": "markdown",
   "metadata": {},
   "source": [
    "### Functions\n",
    "\n",
    "If you use a snippet of code multiple times, it is best practice to put that code into a function instead of copying and pasting it. For example, if you wanted several of the same plots with different data, you could create a function that returns that style of plot for arbitrary (though with correct dimension and type) data. \n",
    "\n",
    "In Python, indentation is very important. If done incorrectly, your code will not run and instead will give an error. When defining a function, all code after the ':' must be indented properly. The indentation conveys the scope of the code. [Some further explanation](https://docs.python.org/2.0/ref/indentation.html).\n",
    "```\n",
    "def function_name(arguments):\n",
    "    \"\"\"\n",
    "    Header comment: brief description of what this function does\n",
    "    \n",
    "    Args:\n",
    "        obj: input for this function\n",
    "    Returns:\n",
    "        out: the output of this function\n",
    "    \"\"\"\n",
    "    \n",
    "    some code\n",
    "    \n",
    "    return out \n",
    " ```\n",
    " \n",
    " Exactly how to structure the header comments is up to you if you work alone, or will likely be specified if working for an established company. \n",
    " \n",
    "Function names should start with a lower case letter (they cannot start with a number), and can be in camelCase or snake_case.\n",
    "\n",
    "If your function returns a variable, you use 'return' to specify that variable. A function doesn't always have to return something though. For example, you could have a function that creates a plot and then saves it in the current directory. "
   ]
  },
  {
   "cell_type": "code",
   "execution_count": 2,
   "metadata": {},
   "outputs": [],
   "source": [
    "def sum_x_y(x, y): # don't need comments if immediately clear what the function does\n",
    "    out = x + y\n",
    "    return out\n"
   ]
  },
  {
   "cell_type": "code",
   "execution_count": 5,
   "metadata": {},
   "outputs": [],
   "source": [
    "def get_max(x):\n",
    "    current_max = x[0]\n",
    "    for i in x :\n",
    "        if i > current_max:\n",
    "            current_max = i \n",
    "\n",
    "    \n",
    "    return current_max"
   ]
  },
  {
   "cell_type": "code",
   "execution_count": 7,
   "metadata": {},
   "outputs": [
    {
     "output_type": "execute_result",
     "data": {
      "text/plain": [
       "397"
      ]
     },
     "metadata": {},
     "execution_count": 7
    }
   ],
   "source": [
    "\n",
    "get_max(np.random.choice(400, 100) ) \n",
    "# np.random.choice(400, 100) will randomly choose 100 integers between 0 and 400       "
   ]
  },
  {
   "cell_type": "markdown",
   "metadata": {},
   "source": [
    "There is a lot more to be said about functions that we don't have time to cover in this course, so I leave you with examples of [common gotchas](https://docs.python-guide.org/writing/gotchas/) that you may run into."
   ]
  },
  {
   "cell_type": "markdown",
   "metadata": {},
   "source": [
    "### lambda functions\n",
    "\n",
    "There are also know as anonymous functions because they are unnamed. This function can have any number of arguments but only one expression. Lambda functions, unlike defined functions, always return a variable.\n",
    "The format of a lambda function is  \n",
    "```\n",
    "lambda arguments: expression  \n",
    "```\n",
    "\n",
    "They can look similar to a mathematical expression for evauating a function.  \n",
    "For example:\n",
    "```\n",
    "(lambda x: x**2)(3)\n",
    "```\n",
    "Is the same as mathmatically writing  \n",
    "$f(x) = x^2$ an then evauluating the function $f$ at $x=3$,  \n",
    "$f(3) = 9$"
   ]
  },
  {
   "cell_type": "code",
   "execution_count": null,
   "metadata": {},
   "outputs": [],
   "source": []
  },
  {
   "cell_type": "markdown",
   "metadata": {},
   "source": [
    "Another way to use a lambda function is to store it in a variable like in the example below."
   ]
  },
  {
   "cell_type": "code",
   "execution_count": 14,
   "metadata": {},
   "outputs": [
    {
     "output_type": "display_data",
     "data": {
      "text/plain": "<Figure size 432x288 with 1 Axes>",
      "image/svg+xml": "<?xml version=\"1.0\" encoding=\"utf-8\" standalone=\"no\"?>\r\n<!DOCTYPE svg PUBLIC \"-//W3C//DTD SVG 1.1//EN\"\r\n  \"http://www.w3.org/Graphics/SVG/1.1/DTD/svg11.dtd\">\r\n<!-- Created with matplotlib (https://matplotlib.org/) -->\r\n<svg height=\"248.518125pt\" version=\"1.1\" viewBox=\"0 0 370.942187 248.518125\" width=\"370.942187pt\" xmlns=\"http://www.w3.org/2000/svg\" xmlns:xlink=\"http://www.w3.org/1999/xlink\">\r\n <defs>\r\n  <style type=\"text/css\">\r\n*{stroke-linecap:butt;stroke-linejoin:round;}\r\n  </style>\r\n </defs>\r\n <g id=\"figure_1\">\r\n  <g id=\"patch_1\">\r\n   <path d=\"M 0 248.518125 \r\nL 370.942187 248.518125 \r\nL 370.942187 0 \r\nL 0 0 \r\nz\r\n\" style=\"fill:none;\"/>\r\n  </g>\r\n  <g id=\"axes_1\">\r\n   <g id=\"patch_2\">\r\n    <path d=\"M 28.942188 224.64 \r\nL 363.742188 224.64 \r\nL 363.742188 7.2 \r\nL 28.942188 7.2 \r\nz\r\n\" style=\"fill:#ffffff;\"/>\r\n   </g>\r\n   <g id=\"matplotlib.axis_1\">\r\n    <g id=\"xtick_1\">\r\n     <g id=\"line2d_1\">\r\n      <defs>\r\n       <path d=\"M 0 0 \r\nL 0 3.5 \r\n\" id=\"m0888c86248\" style=\"stroke:#000000;stroke-width:0.8;\"/>\r\n      </defs>\r\n      <g>\r\n       <use style=\"stroke:#000000;stroke-width:0.8;\" x=\"51.019256\" xlink:href=\"#m0888c86248\" y=\"224.64\"/>\r\n      </g>\r\n     </g>\r\n     <g id=\"text_1\">\r\n      <!-- −3 -->\r\n      <defs>\r\n       <path d=\"M 10.59375 35.5 \r\nL 73.1875 35.5 \r\nL 73.1875 27.203125 \r\nL 10.59375 27.203125 \r\nz\r\n\" id=\"DejaVuSans-8722\"/>\r\n       <path d=\"M 40.578125 39.3125 \r\nQ 47.65625 37.796875 51.625 33 \r\nQ 55.609375 28.21875 55.609375 21.1875 \r\nQ 55.609375 10.40625 48.1875 4.484375 \r\nQ 40.765625 -1.421875 27.09375 -1.421875 \r\nQ 22.515625 -1.421875 17.65625 -0.515625 \r\nQ 12.796875 0.390625 7.625 2.203125 \r\nL 7.625 11.71875 \r\nQ 11.71875 9.328125 16.59375 8.109375 \r\nQ 21.484375 6.890625 26.8125 6.890625 \r\nQ 36.078125 6.890625 40.9375 10.546875 \r\nQ 45.796875 14.203125 45.796875 21.1875 \r\nQ 45.796875 27.640625 41.28125 31.265625 \r\nQ 36.765625 34.90625 28.71875 34.90625 \r\nL 20.21875 34.90625 \r\nL 20.21875 43.015625 \r\nL 29.109375 43.015625 \r\nQ 36.375 43.015625 40.234375 45.921875 \r\nQ 44.09375 48.828125 44.09375 54.296875 \r\nQ 44.09375 59.90625 40.109375 62.90625 \r\nQ 36.140625 65.921875 28.71875 65.921875 \r\nQ 24.65625 65.921875 20.015625 65.03125 \r\nQ 15.375 64.15625 9.8125 62.3125 \r\nL 9.8125 71.09375 \r\nQ 15.4375 72.65625 20.34375 73.4375 \r\nQ 25.25 74.21875 29.59375 74.21875 \r\nQ 40.828125 74.21875 47.359375 69.109375 \r\nQ 53.90625 64.015625 53.90625 55.328125 \r\nQ 53.90625 49.265625 50.4375 45.09375 \r\nQ 46.96875 40.921875 40.578125 39.3125 \r\nz\r\n\" id=\"DejaVuSans-51\"/>\r\n      </defs>\r\n      <g transform=\"translate(43.648162 239.238437)scale(0.1 -0.1)\">\r\n       <use xlink:href=\"#DejaVuSans-8722\"/>\r\n       <use x=\"83.789062\" xlink:href=\"#DejaVuSans-51\"/>\r\n      </g>\r\n     </g>\r\n    </g>\r\n    <g id=\"xtick_2\">\r\n     <g id=\"line2d_2\">\r\n      <g>\r\n       <use style=\"stroke:#000000;stroke-width:0.8;\" x=\"99.460233\" xlink:href=\"#m0888c86248\" y=\"224.64\"/>\r\n      </g>\r\n     </g>\r\n     <g id=\"text_2\">\r\n      <!-- −2 -->\r\n      <defs>\r\n       <path d=\"M 19.1875 8.296875 \r\nL 53.609375 8.296875 \r\nL 53.609375 0 \r\nL 7.328125 0 \r\nL 7.328125 8.296875 \r\nQ 12.9375 14.109375 22.625 23.890625 \r\nQ 32.328125 33.6875 34.8125 36.53125 \r\nQ 39.546875 41.84375 41.421875 45.53125 \r\nQ 43.3125 49.21875 43.3125 52.78125 \r\nQ 43.3125 58.59375 39.234375 62.25 \r\nQ 35.15625 65.921875 28.609375 65.921875 \r\nQ 23.96875 65.921875 18.8125 64.3125 \r\nQ 13.671875 62.703125 7.8125 59.421875 \r\nL 7.8125 69.390625 \r\nQ 13.765625 71.78125 18.9375 73 \r\nQ 24.125 74.21875 28.421875 74.21875 \r\nQ 39.75 74.21875 46.484375 68.546875 \r\nQ 53.21875 62.890625 53.21875 53.421875 \r\nQ 53.21875 48.921875 51.53125 44.890625 \r\nQ 49.859375 40.875 45.40625 35.40625 \r\nQ 44.1875 33.984375 37.640625 27.21875 \r\nQ 31.109375 20.453125 19.1875 8.296875 \r\nz\r\n\" id=\"DejaVuSans-50\"/>\r\n      </defs>\r\n      <g transform=\"translate(92.089139 239.238437)scale(0.1 -0.1)\">\r\n       <use xlink:href=\"#DejaVuSans-8722\"/>\r\n       <use x=\"83.789062\" xlink:href=\"#DejaVuSans-50\"/>\r\n      </g>\r\n     </g>\r\n    </g>\r\n    <g id=\"xtick_3\">\r\n     <g id=\"line2d_3\">\r\n      <g>\r\n       <use style=\"stroke:#000000;stroke-width:0.8;\" x=\"147.90121\" xlink:href=\"#m0888c86248\" y=\"224.64\"/>\r\n      </g>\r\n     </g>\r\n     <g id=\"text_3\">\r\n      <!-- −1 -->\r\n      <defs>\r\n       <path d=\"M 12.40625 8.296875 \r\nL 28.515625 8.296875 \r\nL 28.515625 63.921875 \r\nL 10.984375 60.40625 \r\nL 10.984375 69.390625 \r\nL 28.421875 72.90625 \r\nL 38.28125 72.90625 \r\nL 38.28125 8.296875 \r\nL 54.390625 8.296875 \r\nL 54.390625 0 \r\nL 12.40625 0 \r\nz\r\n\" id=\"DejaVuSans-49\"/>\r\n      </defs>\r\n      <g transform=\"translate(140.530117 239.238437)scale(0.1 -0.1)\">\r\n       <use xlink:href=\"#DejaVuSans-8722\"/>\r\n       <use x=\"83.789062\" xlink:href=\"#DejaVuSans-49\"/>\r\n      </g>\r\n     </g>\r\n    </g>\r\n    <g id=\"xtick_4\">\r\n     <g id=\"line2d_4\">\r\n      <g>\r\n       <use style=\"stroke:#000000;stroke-width:0.8;\" x=\"196.342188\" xlink:href=\"#m0888c86248\" y=\"224.64\"/>\r\n      </g>\r\n     </g>\r\n     <g id=\"text_4\">\r\n      <!-- 0 -->\r\n      <defs>\r\n       <path d=\"M 31.78125 66.40625 \r\nQ 24.171875 66.40625 20.328125 58.90625 \r\nQ 16.5 51.421875 16.5 36.375 \r\nQ 16.5 21.390625 20.328125 13.890625 \r\nQ 24.171875 6.390625 31.78125 6.390625 \r\nQ 39.453125 6.390625 43.28125 13.890625 \r\nQ 47.125 21.390625 47.125 36.375 \r\nQ 47.125 51.421875 43.28125 58.90625 \r\nQ 39.453125 66.40625 31.78125 66.40625 \r\nz\r\nM 31.78125 74.21875 \r\nQ 44.046875 74.21875 50.515625 64.515625 \r\nQ 56.984375 54.828125 56.984375 36.375 \r\nQ 56.984375 17.96875 50.515625 8.265625 \r\nQ 44.046875 -1.421875 31.78125 -1.421875 \r\nQ 19.53125 -1.421875 13.0625 8.265625 \r\nQ 6.59375 17.96875 6.59375 36.375 \r\nQ 6.59375 54.828125 13.0625 64.515625 \r\nQ 19.53125 74.21875 31.78125 74.21875 \r\nz\r\n\" id=\"DejaVuSans-48\"/>\r\n      </defs>\r\n      <g transform=\"translate(193.160938 239.238437)scale(0.1 -0.1)\">\r\n       <use xlink:href=\"#DejaVuSans-48\"/>\r\n      </g>\r\n     </g>\r\n    </g>\r\n    <g id=\"xtick_5\">\r\n     <g id=\"line2d_5\">\r\n      <g>\r\n       <use style=\"stroke:#000000;stroke-width:0.8;\" x=\"244.783165\" xlink:href=\"#m0888c86248\" y=\"224.64\"/>\r\n      </g>\r\n     </g>\r\n     <g id=\"text_5\">\r\n      <!-- 1 -->\r\n      <g transform=\"translate(241.601915 239.238437)scale(0.1 -0.1)\">\r\n       <use xlink:href=\"#DejaVuSans-49\"/>\r\n      </g>\r\n     </g>\r\n    </g>\r\n    <g id=\"xtick_6\">\r\n     <g id=\"line2d_6\">\r\n      <g>\r\n       <use style=\"stroke:#000000;stroke-width:0.8;\" x=\"293.224142\" xlink:href=\"#m0888c86248\" y=\"224.64\"/>\r\n      </g>\r\n     </g>\r\n     <g id=\"text_6\">\r\n      <!-- 2 -->\r\n      <g transform=\"translate(290.042892 239.238437)scale(0.1 -0.1)\">\r\n       <use xlink:href=\"#DejaVuSans-50\"/>\r\n      </g>\r\n     </g>\r\n    </g>\r\n    <g id=\"xtick_7\">\r\n     <g id=\"line2d_7\">\r\n      <g>\r\n       <use style=\"stroke:#000000;stroke-width:0.8;\" x=\"341.665119\" xlink:href=\"#m0888c86248\" y=\"224.64\"/>\r\n      </g>\r\n     </g>\r\n     <g id=\"text_7\">\r\n      <!-- 3 -->\r\n      <g transform=\"translate(338.483869 239.238437)scale(0.1 -0.1)\">\r\n       <use xlink:href=\"#DejaVuSans-51\"/>\r\n      </g>\r\n     </g>\r\n    </g>\r\n   </g>\r\n   <g id=\"matplotlib.axis_2\">\r\n    <g id=\"ytick_1\">\r\n     <g id=\"line2d_8\">\r\n      <defs>\r\n       <path d=\"M 0 0 \r\nL -3.5 0 \r\n\" id=\"m504374cb03\" style=\"stroke:#000000;stroke-width:0.8;\"/>\r\n      </defs>\r\n      <g>\r\n       <use style=\"stroke:#000000;stroke-width:0.8;\" x=\"28.942188\" xlink:href=\"#m504374cb03\" y=\"210.301775\"/>\r\n      </g>\r\n     </g>\r\n     <g id=\"text_8\">\r\n      <!-- −3 -->\r\n      <g transform=\"translate(7.2 214.100994)scale(0.1 -0.1)\">\r\n       <use xlink:href=\"#DejaVuSans-8722\"/>\r\n       <use x=\"83.789062\" xlink:href=\"#DejaVuSans-51\"/>\r\n      </g>\r\n     </g>\r\n    </g>\r\n    <g id=\"ytick_2\">\r\n     <g id=\"line2d_9\">\r\n      <g>\r\n       <use style=\"stroke:#000000;stroke-width:0.8;\" x=\"28.942188\" xlink:href=\"#m504374cb03\" y=\"178.841183\"/>\r\n      </g>\r\n     </g>\r\n     <g id=\"text_9\">\r\n      <!-- −2 -->\r\n      <g transform=\"translate(7.2 182.640402)scale(0.1 -0.1)\">\r\n       <use xlink:href=\"#DejaVuSans-8722\"/>\r\n       <use x=\"83.789062\" xlink:href=\"#DejaVuSans-50\"/>\r\n      </g>\r\n     </g>\r\n    </g>\r\n    <g id=\"ytick_3\">\r\n     <g id=\"line2d_10\">\r\n      <g>\r\n       <use style=\"stroke:#000000;stroke-width:0.8;\" x=\"28.942188\" xlink:href=\"#m504374cb03\" y=\"147.380592\"/>\r\n      </g>\r\n     </g>\r\n     <g id=\"text_10\">\r\n      <!-- −1 -->\r\n      <g transform=\"translate(7.2 151.17981)scale(0.1 -0.1)\">\r\n       <use xlink:href=\"#DejaVuSans-8722\"/>\r\n       <use x=\"83.789062\" xlink:href=\"#DejaVuSans-49\"/>\r\n      </g>\r\n     </g>\r\n    </g>\r\n    <g id=\"ytick_4\">\r\n     <g id=\"line2d_11\">\r\n      <g>\r\n       <use style=\"stroke:#000000;stroke-width:0.8;\" x=\"28.942188\" xlink:href=\"#m504374cb03\" y=\"115.92\"/>\r\n      </g>\r\n     </g>\r\n     <g id=\"text_11\">\r\n      <!-- 0 -->\r\n      <g transform=\"translate(15.579688 119.719219)scale(0.1 -0.1)\">\r\n       <use xlink:href=\"#DejaVuSans-48\"/>\r\n      </g>\r\n     </g>\r\n    </g>\r\n    <g id=\"ytick_5\">\r\n     <g id=\"line2d_12\">\r\n      <g>\r\n       <use style=\"stroke:#000000;stroke-width:0.8;\" x=\"28.942188\" xlink:href=\"#m504374cb03\" y=\"84.459408\"/>\r\n      </g>\r\n     </g>\r\n     <g id=\"text_12\">\r\n      <!-- 1 -->\r\n      <g transform=\"translate(15.579688 88.258627)scale(0.1 -0.1)\">\r\n       <use xlink:href=\"#DejaVuSans-49\"/>\r\n      </g>\r\n     </g>\r\n    </g>\r\n    <g id=\"ytick_6\">\r\n     <g id=\"line2d_13\">\r\n      <g>\r\n       <use style=\"stroke:#000000;stroke-width:0.8;\" x=\"28.942188\" xlink:href=\"#m504374cb03\" y=\"52.998817\"/>\r\n      </g>\r\n     </g>\r\n     <g id=\"text_13\">\r\n      <!-- 2 -->\r\n      <g transform=\"translate(15.579688 56.798035)scale(0.1 -0.1)\">\r\n       <use xlink:href=\"#DejaVuSans-50\"/>\r\n      </g>\r\n     </g>\r\n    </g>\r\n    <g id=\"ytick_7\">\r\n     <g id=\"line2d_14\">\r\n      <g>\r\n       <use style=\"stroke:#000000;stroke-width:0.8;\" x=\"28.942188\" xlink:href=\"#m504374cb03\" y=\"21.538225\"/>\r\n      </g>\r\n     </g>\r\n     <g id=\"text_14\">\r\n      <!-- 3 -->\r\n      <g transform=\"translate(15.579688 25.337444)scale(0.1 -0.1)\">\r\n       <use xlink:href=\"#DejaVuSans-51\"/>\r\n      </g>\r\n     </g>\r\n    </g>\r\n   </g>\r\n   <g id=\"line2d_15\">\r\n    <path clip-path=\"url(#p5632f8ba1d)\" d=\"M 44.160369 115.92 \r\nL 47.234749 117.915354 \r\nL 50.30913 119.902673 \r\nL 53.38351 121.873956 \r\nL 56.45789 123.821264 \r\nL 59.53227 125.736757 \r\nL 62.60665 127.612721 \r\nL 65.68103 129.441602 \r\nL 68.755411 131.216037 \r\nL 71.829791 132.92888 \r\nL 74.904171 134.573234 \r\nL 77.978551 136.142479 \r\nL 81.052931 137.630294 \r\nL 84.127311 139.03069 \r\nL 87.201692 140.338027 \r\nL 90.276072 141.547041 \r\nL 93.350452 142.652865 \r\nL 96.424832 143.651044 \r\nL 99.499212 144.537561 \r\nL 102.573592 145.308844 \r\nL 105.647973 145.961789 \r\nL 108.722353 146.493767 \r\nL 111.796733 146.902635 \r\nL 114.871113 147.186746 \r\nL 117.945493 147.344957 \r\nL 121.019873 147.376632 \r\nL 124.094254 147.281641 \r\nL 127.168634 147.060368 \r\nL 130.243014 146.713704 \r\nL 133.317394 146.243045 \r\nL 136.391774 145.650285 \r\nL 139.466154 144.937812 \r\nL 142.540535 144.108494 \r\nL 145.614915 143.165672 \r\nL 148.689295 142.11314 \r\nL 151.763675 140.955138 \r\nL 154.838055 139.696329 \r\nL 157.912435 138.34178 \r\nL 160.986816 136.896947 \r\nL 164.061196 135.367647 \r\nL 167.135576 133.760039 \r\nL 170.209956 132.080595 \r\nL 173.284336 130.336077 \r\nL 176.358716 128.533512 \r\nL 179.433097 126.680156 \r\nL 182.507477 124.783473 \r\nL 185.581857 122.8511 \r\nL 188.656237 120.890817 \r\nL 191.730617 118.910519 \r\nL 194.804997 116.91818 \r\nL 197.879378 114.92182 \r\nL 200.953758 112.929481 \r\nL 204.028138 110.949183 \r\nL 207.102518 108.9889 \r\nL 210.176898 107.056527 \r\nL 213.251278 105.159844 \r\nL 216.325659 103.306488 \r\nL 219.400039 101.503923 \r\nL 222.474419 99.759405 \r\nL 225.548799 98.079961 \r\nL 228.623179 96.472353 \r\nL 231.697559 94.943053 \r\nL 234.77194 93.49822 \r\nL 237.84632 92.143671 \r\nL 240.9207 90.884862 \r\nL 243.99508 89.72686 \r\nL 247.06946 88.674328 \r\nL 250.14384 87.731506 \r\nL 253.218221 86.902188 \r\nL 256.292601 86.189715 \r\nL 259.366981 85.596955 \r\nL 262.441361 85.126296 \r\nL 265.515741 84.779632 \r\nL 268.590121 84.558359 \r\nL 271.664502 84.463368 \r\nL 274.738882 84.495043 \r\nL 277.813262 84.653254 \r\nL 280.887642 84.937365 \r\nL 283.962022 85.346233 \r\nL 287.036402 85.878211 \r\nL 290.110783 86.531156 \r\nL 293.185163 87.302439 \r\nL 296.259543 88.188956 \r\nL 299.333923 89.187135 \r\nL 302.408303 90.292959 \r\nL 305.482683 91.501973 \r\nL 308.557064 92.80931 \r\nL 311.631444 94.209706 \r\nL 314.705824 95.697521 \r\nL 317.780204 97.266766 \r\nL 320.854584 98.91112 \r\nL 323.928964 100.623963 \r\nL 327.003345 102.398398 \r\nL 330.077725 104.227279 \r\nL 333.152105 106.103243 \r\nL 336.226485 108.018736 \r\nL 339.300865 109.966044 \r\nL 342.375245 111.937327 \r\nL 345.449626 113.924646 \r\nL 348.524006 115.92 \r\n\" style=\"fill:none;stroke:#1f77b4;stroke-linecap:square;stroke-width:1.5;\"/>\r\n   </g>\r\n   <g id=\"line2d_16\">\r\n    <path clip-path=\"url(#p5632f8ba1d)\" d=\"M 196.342188 214.756364 \r\nL 193.269871 212.759669 \r\nL 190.209925 210.762975 \r\nL 187.174672 208.766281 \r\nL 184.176334 206.769587 \r\nL 181.226982 204.772893 \r\nL 178.338495 202.776198 \r\nL 175.522502 200.779504 \r\nL 172.790342 198.78281 \r\nL 170.153018 196.786116 \r\nL 167.621148 194.789421 \r\nL 165.204928 192.792727 \r\nL 162.914086 190.796033 \r\nL 160.757847 188.799339 \r\nL 158.744894 186.802645 \r\nL 156.883332 184.80595 \r\nL 155.180657 182.809256 \r\nL 153.643725 180.812562 \r\nL 152.278725 178.815868 \r\nL 151.091152 176.819174 \r\nL 150.08579 174.822479 \r\nL 149.266685 172.825785 \r\nL 148.637138 170.829091 \r\nL 148.199681 168.832397 \r\nL 147.956077 166.835702 \r\nL 147.907308 164.839008 \r\nL 148.053568 162.842314 \r\nL 148.39427 160.84562 \r\nL 148.92804 158.848926 \r\nL 149.652731 156.852231 \r\nL 150.565424 154.855537 \r\nL 151.662444 152.858843 \r\nL 152.939373 150.862149 \r\nL 154.391071 148.865455 \r\nL 156.01169 146.86876 \r\nL 157.794706 144.872066 \r\nL 159.73294 142.875372 \r\nL 161.818585 140.878678 \r\nL 164.043246 138.881983 \r\nL 166.397962 136.885289 \r\nL 168.873254 134.888595 \r\nL 171.459153 132.891901 \r\nL 174.145247 130.895207 \r\nL 176.920721 128.898512 \r\nL 179.774398 126.901818 \r\nL 182.694787 124.905124 \r\nL 185.67013 122.90843 \r\nL 188.688445 120.911736 \r\nL 191.73758 118.915041 \r\nL 194.805255 116.918347 \r\nL 197.87912 114.921653 \r\nL 200.946795 112.924959 \r\nL 203.99593 110.928264 \r\nL 207.014245 108.93157 \r\nL 209.989588 106.934876 \r\nL 212.909977 104.938182 \r\nL 215.763654 102.941488 \r\nL 218.539128 100.944793 \r\nL 221.225222 98.948099 \r\nL 223.811121 96.951405 \r\nL 226.286413 94.954711 \r\nL 228.641129 92.958017 \r\nL 230.86579 90.961322 \r\nL 232.951435 88.964628 \r\nL 234.889669 86.967934 \r\nL 236.672685 84.97124 \r\nL 238.293304 82.974545 \r\nL 239.745002 80.977851 \r\nL 241.021931 78.981157 \r\nL 242.118951 76.984463 \r\nL 243.031644 74.987769 \r\nL 243.756335 72.991074 \r\nL 244.290105 70.99438 \r\nL 244.630807 68.997686 \r\nL 244.777067 67.000992 \r\nL 244.728298 65.004298 \r\nL 244.484694 63.007603 \r\nL 244.047237 61.010909 \r\nL 243.41769 59.014215 \r\nL 242.598585 57.017521 \r\nL 241.593223 55.020826 \r\nL 240.40565 53.024132 \r\nL 239.04065 51.027438 \r\nL 237.503718 49.030744 \r\nL 235.801043 47.03405 \r\nL 233.939481 45.037355 \r\nL 231.926528 43.040661 \r\nL 229.770289 41.043967 \r\nL 227.479447 39.047273 \r\nL 225.063227 37.050579 \r\nL 222.531357 35.053884 \r\nL 219.894033 33.05719 \r\nL 217.161873 31.060496 \r\nL 214.34588 29.063802 \r\nL 211.457393 27.067107 \r\nL 208.508041 25.070413 \r\nL 205.509703 23.073719 \r\nL 202.47445 21.077025 \r\nL 199.414504 19.080331 \r\nL 196.342188 17.083636 \r\n\" style=\"fill:none;stroke:#ff7f0e;stroke-linecap:square;stroke-width:1.5;\"/>\r\n   </g>\r\n   <g id=\"patch_3\">\r\n    <path d=\"M 28.942188 224.64 \r\nL 28.942188 7.2 \r\n\" style=\"fill:none;stroke:#000000;stroke-linecap:square;stroke-linejoin:miter;stroke-width:0.8;\"/>\r\n   </g>\r\n   <g id=\"patch_4\">\r\n    <path d=\"M 363.742188 224.64 \r\nL 363.742188 7.2 \r\n\" style=\"fill:none;stroke:#000000;stroke-linecap:square;stroke-linejoin:miter;stroke-width:0.8;\"/>\r\n   </g>\r\n   <g id=\"patch_5\">\r\n    <path d=\"M 28.942188 224.64 \r\nL 363.742188 224.64 \r\n\" style=\"fill:none;stroke:#000000;stroke-linecap:square;stroke-linejoin:miter;stroke-width:0.8;\"/>\r\n   </g>\r\n   <g id=\"patch_6\">\r\n    <path d=\"M 28.942188 7.2 \r\nL 363.742188 7.2 \r\n\" style=\"fill:none;stroke:#000000;stroke-linecap:square;stroke-linejoin:miter;stroke-width:0.8;\"/>\r\n   </g>\r\n  </g>\r\n </g>\r\n <defs>\r\n  <clipPath id=\"p5632f8ba1d\">\r\n   <rect height=\"217.44\" width=\"334.8\" x=\"28.942188\" y=\"7.2\"/>\r\n  </clipPath>\r\n </defs>\r\n</svg>\r\n",
      "image/png": "[encoded data removed]"
     },
     "metadata": {
      "needs_background": "light"
     }
    }
   ],
   "source": [
    "f = lambda x: np.sin(x)\n",
    "x = np.linspace(-np.pi, np.pi, 100)\n",
    "y = [f(i) for i in x]\n",
    "plt.plot(x,y)\n",
    "\n",
    "plt.show()\n",
    "# we could have made this several ways, can you think of another?"
   ]
  },
  {
   "cell_type": "markdown",
   "metadata": {},
   "source": [
    "You shouldn't come across many (if any) cases where you would have to use a lambda function, but we present them briefly here so that you can regonize them in the wild. "
   ]
  },
  {
   "cell_type": "markdown",
   "metadata": {},
   "source": [
    "### Reading help documentation\n",
    "A key skill in being a successful programmer is being able to read the documentation for a function and understand what that functions does and what the arguments are. \n",
    "\n",
    "To get the documentation, use the help function. First, let's call the help function on help, to see what is does:"
   ]
  },
  {
   "cell_type": "code",
   "execution_count": 9,
   "metadata": {},
   "outputs": [
    {
     "output_type": "execute_result",
     "data": {
      "text/plain": [
       "[-1.2246467991473532e-16,\n",
       " -0.06342391965656484,\n",
       " -0.12659245357374938,\n",
       " -0.1892512443604105,\n",
       " -0.2511479871810793,\n",
       " -0.31203344569848734,\n",
       " -0.3716624556603276,\n",
       " -0.4297949120891718,\n",
       " -0.4861967361004687,\n",
       " -0.5406408174555978,\n",
       " -0.5929079290546404,\n",
       " -0.6427876096865395,\n",
       " -0.6900790114821119,\n",
       " -0.7345917086575334,\n",
       " -0.776146464291757,\n",
       " -0.8145759520503357,\n",
       " -0.8497254299495143,\n",
       " -0.8814533634475821,\n",
       " -0.9096319953545184,\n",
       " -0.9341478602651068,\n",
       " -0.9549022414440739,\n",
       " -0.9718115683235417,\n",
       " -0.984807753012208,\n",
       " -0.9938384644612541,\n",
       " -0.998867339183008,\n",
       " -0.9998741276738751,\n",
       " -0.9968547759519423,\n",
       " -0.9898214418809327,\n",
       " -0.9788024462147787,\n",
       " -0.963842158559942,\n",
       " -0.9450008187146685,\n",
       " -0.9223542941045814,\n",
       " -0.8959937742913359,\n",
       " -0.8660254037844385,\n",
       " -0.8325698546347713,\n",
       " -0.795761840530832,\n",
       " -0.7557495743542583,\n",
       " -0.7126941713788627,\n",
       " -0.6667690005162916,\n",
       " -0.6181589862206051,\n",
       " -0.5670598638627707,\n",
       " -0.5136773915734062,\n",
       " -0.4582265217274104,\n",
       " -0.4009305354066135,\n",
       " -0.34202014332566877,\n",
       " -0.2817325568414295,\n",
       " -0.2203105327865407,\n",
       " -0.15800139597334975,\n",
       " -0.09505604330418231,\n",
       " -0.03172793349806753,\n",
       " 0.031727933498067976,\n",
       " 0.09505604330418276,\n",
       " 0.1580013959733502,\n",
       " 0.2203105327865407,\n",
       " 0.28173255684142995,\n",
       " 0.34202014332566877,\n",
       " 0.4009305354066139,\n",
       " 0.4582265217274104,\n",
       " 0.5136773915734065,\n",
       " 0.5670598638627707,\n",
       " 0.6181589862206054,\n",
       " 0.6667690005162916,\n",
       " 0.7126941713788629,\n",
       " 0.7557495743542583,\n",
       " 0.7957618405308322,\n",
       " 0.8325698546347713,\n",
       " 0.8660254037844389,\n",
       " 0.895993774291336,\n",
       " 0.9223542941045815,\n",
       " 0.9450008187146685,\n",
       " 0.9638421585599422,\n",
       " 0.9788024462147787,\n",
       " 0.9898214418809327,\n",
       " 0.9968547759519423,\n",
       " 0.9998741276738751,\n",
       " 0.998867339183008,\n",
       " 0.9938384644612541,\n",
       " 0.9848077530122081,\n",
       " 0.9718115683235415,\n",
       " 0.9549022414440739,\n",
       " 0.9341478602651068,\n",
       " 0.9096319953545181,\n",
       " 0.8814533634475819,\n",
       " 0.8497254299495143,\n",
       " 0.8145759520503357,\n",
       " 0.7761464642917565,\n",
       " 0.7345917086575331,\n",
       " 0.6900790114821119,\n",
       " 0.6427876096865395,\n",
       " 0.5929079290546401,\n",
       " 0.5406408174555974,\n",
       " 0.4861967361004687,\n",
       " 0.4297949120891718,\n",
       " 0.37166245566032713,\n",
       " 0.31203344569848696,\n",
       " 0.2511479871810793,\n",
       " 0.18925124436040963,\n",
       " 0.12659245357374893,\n",
       " 0.0634239196565644,\n",
       " 1.2246467991473532e-16]"
      ]
     },
     "metadata": {},
     "execution_count": 9
    }
   ],
   "source": [
    "help(help)"
   ]
  },
  {
   "cell_type": "markdown",
   "metadata": {},
   "source": [
    "We can see that calling help(thing) will print the documentation for 'thing'. Generally, this documentation will first list the function with its arguments (also called parameters), showing what the default arguments are. Then, it will list these arguments (parameters) and specify what they are and their type. Then it will documents what the function returns, errors it may raise, and possibly other documentation as necessary. Often, the bottom of the document will contain examples.\n",
    "\n",
    "Let's look at another example, the pandas drop function. This is used to drop rows or columns from a DataFrame. If you had a DataFrame call 'my_df', you would call this function by\n",
    "```\n",
    "my_df.drop(some arguments)\n",
    "```\n",
    "Unfortunately, we cannot simply call \n",
    "```\n",
    "help(drop)\n",
    "```\n",
    "because drop is not a function in base python. Instead, we must call\n",
    "```\n",
    "help(pd.DataFrame.drop)\n",
    "```\n",
    "because we need to specify that this is from pandas library (pd) and is applied to a DataFrame. If you're wondering why I'm capitalizing DataFrame as such, it is because that is a data type in the python pandas library. Without the capitalization, it had no meaning. "
   ]
  },
  {
   "cell_type": "code",
   "execution_count": 20,
   "metadata": {},
   "outputs": [
    {
     "output_type": "stream",
     "name": "stdout",
     "text": [
      "Help on function drop in module pandas.core.frame:\n\ndrop(self, labels=None, axis=0, index=None, columns=None, level=None, inplace=False, errors='raise')\n    Drop specified labels from rows or columns.\n    \n    Remove rows or columns by specifying label names and corresponding\n    axis, or by specifying directly index or column names. When using a\n    multi-index, labels on different levels can be removed by specifying\n    the level.\n    \n    Parameters\n    ----------\n    labels : single label or list-like\n        Index or column labels to drop.\n    axis : {0 or 'index', 1 or 'columns'}, default 0\n        Whether to drop labels from the index (0 or 'index') or\n        columns (1 or 'columns').\n    index : single label or list-like\n        Alternative to specifying axis (``labels, axis=0``\n        is equivalent to ``index=labels``).\n    \n        .. versionadded:: 0.21.0\n    columns : single label or list-like\n        Alternative to specifying axis (``labels, axis=1``\n        is equivalent to ``columns=labels``).\n    \n        .. versionadded:: 0.21.0\n    level : int or level name, optional\n        For MultiIndex, level from which the labels will be removed.\n    inplace : bool, default False\n        If True, do operation inplace and return None.\n    errors : {'ignore', 'raise'}, default 'raise'\n        If 'ignore', suppress error and only existing labels are\n        dropped.\n    \n    Returns\n    -------\n    DataFrame\n        DataFrame without the removed index or column labels.\n    \n    Raises\n    ------\n    KeyError\n        If any of the labels is not found in the selected axis.\n    \n    See Also\n    --------\n    DataFrame.loc : Label-location based indexer for selection by label.\n    DataFrame.dropna : Return DataFrame with labels on given axis omitted\n        where (all or any) data are missing.\n    DataFrame.drop_duplicates : Return DataFrame with duplicate rows\n        removed, optionally only considering certain columns.\n    Series.drop : Return Series with specified index labels removed.\n    \n    Examples\n    --------\n    >>> df = pd.DataFrame(np.arange(12).reshape(3, 4),\n    ...                   columns=['A', 'B', 'C', 'D'])\n    >>> df\n       A  B   C   D\n    0  0  1   2   3\n    1  4  5   6   7\n    2  8  9  10  11\n    \n    Drop columns\n    \n    >>> df.drop(['B', 'C'], axis=1)\n       A   D\n    0  0   3\n    1  4   7\n    2  8  11\n    \n    >>> df.drop(columns=['B', 'C'])\n       A   D\n    0  0   3\n    1  4   7\n    2  8  11\n    \n    Drop a row by index\n    \n    >>> df.drop([0, 1])\n       A  B   C   D\n    2  8  9  10  11\n    \n    Drop columns and/or rows of MultiIndex DataFrame\n    \n    >>> midx = pd.MultiIndex(levels=[['lama', 'cow', 'falcon'],\n    ...                              ['speed', 'weight', 'length']],\n    ...                      codes=[[0, 0, 0, 1, 1, 1, 2, 2, 2],\n    ...                             [0, 1, 2, 0, 1, 2, 0, 1, 2]])\n    >>> df = pd.DataFrame(index=midx, columns=['big', 'small'],\n    ...                   data=[[45, 30], [200, 100], [1.5, 1], [30, 20],\n    ...                         [250, 150], [1.5, 0.8], [320, 250],\n    ...                         [1, 0.8], [0.3, 0.2]])\n    >>> df\n                    big     small\n    lama    speed   45.0    30.0\n            weight  200.0   100.0\n            length  1.5     1.0\n    cow     speed   30.0    20.0\n            weight  250.0   150.0\n            length  1.5     0.8\n    falcon  speed   320.0   250.0\n            weight  1.0     0.8\n            length  0.3     0.2\n    \n    >>> df.drop(index='cow', columns='small')\n                    big\n    lama    speed   45.0\n            weight  200.0\n            length  1.5\n    falcon  speed   320.0\n            weight  1.0\n            length  0.3\n    \n    >>> df.drop(index='length', level=1)\n                    big     small\n    lama    speed   45.0    30.0\n            weight  200.0   100.0\n    cow     speed   30.0    20.0\n            weight  250.0   150.0\n    falcon  speed   320.0   250.0\n            weight  1.0     0.8\n\n"
     ]
    }
   ],
   "source": [
    "help(pd.DataFrame.drop)"
   ]
  },
  {
   "cell_type": "markdown",
   "metadata": {},
   "source": [
    "If you wanted to drop the column 'this one' from the DataFrame 'my_df', how would you do it?"
   ]
  },
  {
   "cell_type": "code",
   "execution_count": null,
   "metadata": {},
   "outputs": [],
   "source": []
  }
 ],
 "metadata": {
  "kernelspec": {
   "display_name": "Python 3",
   "language": "python",
   "name": "python3"
  },
  "language_info": {
   "codemirror_mode": {
    "name": "ipython",
    "version": 3
   },
   "file_extension": ".py",
   "mimetype": "text/x-python",
   "name": "python",
   "nbconvert_exporter": "python",
   "pygments_lexer": "ipython3",
   "version": "3.7.4-final"
  }
 },
 "nbformat": 4,
 "nbformat_minor": 4
}